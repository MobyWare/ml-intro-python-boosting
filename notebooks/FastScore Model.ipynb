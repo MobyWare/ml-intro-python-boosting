{
 "cells": [
  {
   "cell_type": "code",
   "execution_count": null,
   "metadata": {
    "collapsed": true
   },
   "outputs": [],
   "source": [
    "# fastscore.input: gbm_input\n",
    "# fastscore.output: gbm_output\n",
    "\n",
    "import cPickle\n",
    "import imp\n",
    "import numpy as np\n",
    "import pandas as pd\n",
    "from sklearn.ensemble import GradientBoostingRegressor\n",
    "from sklearn.pipeline import Pipeline\n",
    "\n",
    "def begin():\n",
    "    FeatureTransformer = imp.load_source(\"FeatureTransformer\",\n",
    "                                        \"score_auto_gbm/FeatureTransformer.py\")\n",
    "    global gbmFit\n",
    "    with open(\"score_auto_gbm/gbmFit.pkl\", \"rb\") as pickle_file:\n",
    "        gbmFit = cPickle.load(pickle_file)\n",
    "\n",
    "def action(datum):\n",
    "    score = list(gbmFit.predict(pd.DataFrame([datum])))[0]\n",
    "    yield score\n",
    "    \n",
    "\n"
   ]
  }
 ],
 "metadata": {
  "kernelspec": {
   "display_name": "Python 2",
   "language": "python",
   "name": "python2"
  },
  "language_info": {
   "codemirror_mode": {
    "name": "ipython",
    "version": 2
   },
   "file_extension": ".py",
   "mimetype": "text/x-python",
   "name": "python",
   "nbconvert_exporter": "python",
   "pygments_lexer": "ipython2",
   "version": "2.7.12"
  }
 },
 "nbformat": 4,
 "nbformat_minor": 2
}
