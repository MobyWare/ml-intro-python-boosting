{
 "cells": [
  {
   "cell_type": "code",
   "execution_count": 1,
   "metadata": {
    "collapsed": true
   },
   "outputs": [],
   "source": [
    "import pandas as pd"
   ]
  },
  {
   "cell_type": "code",
   "execution_count": 2,
   "metadata": {
    "collapsed": true
   },
   "outputs": [],
   "source": [
    "X = pd.read_json(\"../data/train_data.json\", orient = \"records\")"
   ]
  },
  {
   "cell_type": "code",
   "execution_count": 25,
   "metadata": {
    "collapsed": false
   },
   "outputs": [
    {
     "data": {
      "text/html": [
       "<div>\n",
       "<table border=\"1\" class=\"dataframe\">\n",
       "  <thead>\n",
       "    <tr style=\"text-align: right;\">\n",
       "      <th></th>\n",
       "      <th>aspiration</th>\n",
       "      <th>bodyStyle</th>\n",
       "      <th>bore</th>\n",
       "      <th>cityMPG</th>\n",
       "      <th>compressionRatio</th>\n",
       "      <th>curbWeight</th>\n",
       "      <th>driveWheels</th>\n",
       "      <th>engineLocation</th>\n",
       "      <th>engineSize</th>\n",
       "      <th>engineType</th>\n",
       "      <th>...</th>\n",
       "      <th>length</th>\n",
       "      <th>make</th>\n",
       "      <th>numCylinders</th>\n",
       "      <th>numDoors</th>\n",
       "      <th>peakRPM</th>\n",
       "      <th>price</th>\n",
       "      <th>risk</th>\n",
       "      <th>stroke</th>\n",
       "      <th>wheelBase</th>\n",
       "      <th>width</th>\n",
       "    </tr>\n",
       "  </thead>\n",
       "  <tbody>\n",
       "    <tr>\n",
       "      <th>0</th>\n",
       "      <td>std</td>\n",
       "      <td>convertible</td>\n",
       "      <td>3.47</td>\n",
       "      <td>21</td>\n",
       "      <td>9.0</td>\n",
       "      <td>2548</td>\n",
       "      <td>rwd</td>\n",
       "      <td>front</td>\n",
       "      <td>130</td>\n",
       "      <td>dohc</td>\n",
       "      <td>...</td>\n",
       "      <td>168.8</td>\n",
       "      <td>alfa-romero</td>\n",
       "      <td>four</td>\n",
       "      <td>two</td>\n",
       "      <td>5000.0</td>\n",
       "      <td>13495.0</td>\n",
       "      <td>3</td>\n",
       "      <td>2.68</td>\n",
       "      <td>88.6</td>\n",
       "      <td>64.1</td>\n",
       "    </tr>\n",
       "    <tr>\n",
       "      <th>1</th>\n",
       "      <td>std</td>\n",
       "      <td>convertible</td>\n",
       "      <td>3.47</td>\n",
       "      <td>21</td>\n",
       "      <td>9.0</td>\n",
       "      <td>2548</td>\n",
       "      <td>rwd</td>\n",
       "      <td>front</td>\n",
       "      <td>130</td>\n",
       "      <td>dohc</td>\n",
       "      <td>...</td>\n",
       "      <td>168.8</td>\n",
       "      <td>alfa-romero</td>\n",
       "      <td>four</td>\n",
       "      <td>two</td>\n",
       "      <td>5000.0</td>\n",
       "      <td>16500.0</td>\n",
       "      <td>3</td>\n",
       "      <td>2.68</td>\n",
       "      <td>88.6</td>\n",
       "      <td>64.1</td>\n",
       "    </tr>\n",
       "    <tr>\n",
       "      <th>2</th>\n",
       "      <td>std</td>\n",
       "      <td>hatchback</td>\n",
       "      <td>2.68</td>\n",
       "      <td>19</td>\n",
       "      <td>9.0</td>\n",
       "      <td>2823</td>\n",
       "      <td>rwd</td>\n",
       "      <td>front</td>\n",
       "      <td>152</td>\n",
       "      <td>ohcv</td>\n",
       "      <td>...</td>\n",
       "      <td>171.2</td>\n",
       "      <td>alfa-romero</td>\n",
       "      <td>six</td>\n",
       "      <td>two</td>\n",
       "      <td>5000.0</td>\n",
       "      <td>16500.0</td>\n",
       "      <td>1</td>\n",
       "      <td>3.47</td>\n",
       "      <td>94.5</td>\n",
       "      <td>65.5</td>\n",
       "    </tr>\n",
       "    <tr>\n",
       "      <th>3</th>\n",
       "      <td>std</td>\n",
       "      <td>sedan</td>\n",
       "      <td>3.19</td>\n",
       "      <td>18</td>\n",
       "      <td>8.0</td>\n",
       "      <td>2824</td>\n",
       "      <td>4wd</td>\n",
       "      <td>front</td>\n",
       "      <td>136</td>\n",
       "      <td>ohc</td>\n",
       "      <td>...</td>\n",
       "      <td>176.6</td>\n",
       "      <td>audi</td>\n",
       "      <td>five</td>\n",
       "      <td>four</td>\n",
       "      <td>5500.0</td>\n",
       "      <td>17450.0</td>\n",
       "      <td>2</td>\n",
       "      <td>3.40</td>\n",
       "      <td>99.4</td>\n",
       "      <td>66.4</td>\n",
       "    </tr>\n",
       "    <tr>\n",
       "      <th>4</th>\n",
       "      <td>std</td>\n",
       "      <td>sedan</td>\n",
       "      <td>3.19</td>\n",
       "      <td>19</td>\n",
       "      <td>8.5</td>\n",
       "      <td>2507</td>\n",
       "      <td>fwd</td>\n",
       "      <td>front</td>\n",
       "      <td>136</td>\n",
       "      <td>ohc</td>\n",
       "      <td>...</td>\n",
       "      <td>177.3</td>\n",
       "      <td>audi</td>\n",
       "      <td>five</td>\n",
       "      <td>two</td>\n",
       "      <td>5500.0</td>\n",
       "      <td>15250.0</td>\n",
       "      <td>2</td>\n",
       "      <td>3.40</td>\n",
       "      <td>99.8</td>\n",
       "      <td>66.3</td>\n",
       "    </tr>\n",
       "  </tbody>\n",
       "</table>\n",
       "<p>5 rows × 25 columns</p>\n",
       "</div>"
      ],
      "text/plain": [
       "  aspiration    bodyStyle  bore  cityMPG  compressionRatio  curbWeight  \\\n",
       "0        std  convertible  3.47       21               9.0        2548   \n",
       "1        std  convertible  3.47       21               9.0        2548   \n",
       "2        std    hatchback  2.68       19               9.0        2823   \n",
       "3        std        sedan  3.19       18               8.0        2824   \n",
       "4        std        sedan  3.19       19               8.5        2507   \n",
       "\n",
       "  driveWheels engineLocation  engineSize engineType  ...   length  \\\n",
       "0         rwd          front         130       dohc  ...    168.8   \n",
       "1         rwd          front         130       dohc  ...    168.8   \n",
       "2         rwd          front         152       ohcv  ...    171.2   \n",
       "3         4wd          front         136        ohc  ...    176.6   \n",
       "4         fwd          front         136        ohc  ...    177.3   \n",
       "\n",
       "          make  numCylinders  numDoors  peakRPM    price risk stroke  \\\n",
       "0  alfa-romero          four       two   5000.0  13495.0    3   2.68   \n",
       "1  alfa-romero          four       two   5000.0  16500.0    3   2.68   \n",
       "2  alfa-romero           six       two   5000.0  16500.0    1   3.47   \n",
       "3         audi          five      four   5500.0  17450.0    2   3.40   \n",
       "4         audi          five       two   5500.0  15250.0    2   3.40   \n",
       "\n",
       "  wheelBase  width  \n",
       "0      88.6   64.1  \n",
       "1      88.6   64.1  \n",
       "2      94.5   65.5  \n",
       "3      99.4   66.4  \n",
       "4      99.8   66.3  \n",
       "\n",
       "[5 rows x 25 columns]"
      ]
     },
     "execution_count": 25,
     "metadata": {},
     "output_type": "execute_result"
    }
   ],
   "source": [
    "X.head()"
   ]
  },
  {
   "cell_type": "code",
   "execution_count": 26,
   "metadata": {
    "collapsed": false
   },
   "outputs": [
    {
     "data": {
      "text/html": [
       "<div>\n",
       "<table border=\"1\" class=\"dataframe\">\n",
       "  <thead>\n",
       "    <tr style=\"text-align: right;\">\n",
       "      <th></th>\n",
       "      <th>aspiration</th>\n",
       "      <th>bodyStyle</th>\n",
       "      <th>driveWheels</th>\n",
       "      <th>engineLocation</th>\n",
       "      <th>engineType</th>\n",
       "      <th>fuelSystem</th>\n",
       "      <th>fuelType</th>\n",
       "      <th>make</th>\n",
       "      <th>numCylinders</th>\n",
       "      <th>numDoors</th>\n",
       "    </tr>\n",
       "  </thead>\n",
       "  <tbody>\n",
       "    <tr>\n",
       "      <th>0</th>\n",
       "      <td>std</td>\n",
       "      <td>convertible</td>\n",
       "      <td>rwd</td>\n",
       "      <td>front</td>\n",
       "      <td>dohc</td>\n",
       "      <td>mpfi</td>\n",
       "      <td>gas</td>\n",
       "      <td>alfa-romero</td>\n",
       "      <td>four</td>\n",
       "      <td>two</td>\n",
       "    </tr>\n",
       "    <tr>\n",
       "      <th>1</th>\n",
       "      <td>std</td>\n",
       "      <td>convertible</td>\n",
       "      <td>rwd</td>\n",
       "      <td>front</td>\n",
       "      <td>dohc</td>\n",
       "      <td>mpfi</td>\n",
       "      <td>gas</td>\n",
       "      <td>alfa-romero</td>\n",
       "      <td>four</td>\n",
       "      <td>two</td>\n",
       "    </tr>\n",
       "    <tr>\n",
       "      <th>2</th>\n",
       "      <td>std</td>\n",
       "      <td>hatchback</td>\n",
       "      <td>rwd</td>\n",
       "      <td>front</td>\n",
       "      <td>ohcv</td>\n",
       "      <td>mpfi</td>\n",
       "      <td>gas</td>\n",
       "      <td>alfa-romero</td>\n",
       "      <td>six</td>\n",
       "      <td>two</td>\n",
       "    </tr>\n",
       "    <tr>\n",
       "      <th>3</th>\n",
       "      <td>std</td>\n",
       "      <td>sedan</td>\n",
       "      <td>4wd</td>\n",
       "      <td>front</td>\n",
       "      <td>ohc</td>\n",
       "      <td>mpfi</td>\n",
       "      <td>gas</td>\n",
       "      <td>audi</td>\n",
       "      <td>five</td>\n",
       "      <td>four</td>\n",
       "    </tr>\n",
       "    <tr>\n",
       "      <th>4</th>\n",
       "      <td>std</td>\n",
       "      <td>sedan</td>\n",
       "      <td>fwd</td>\n",
       "      <td>front</td>\n",
       "      <td>ohc</td>\n",
       "      <td>mpfi</td>\n",
       "      <td>gas</td>\n",
       "      <td>audi</td>\n",
       "      <td>five</td>\n",
       "      <td>two</td>\n",
       "    </tr>\n",
       "  </tbody>\n",
       "</table>\n",
       "</div>"
      ],
      "text/plain": [
       "  aspiration    bodyStyle driveWheels engineLocation engineType fuelSystem  \\\n",
       "0        std  convertible         rwd          front       dohc       mpfi   \n",
       "1        std  convertible         rwd          front       dohc       mpfi   \n",
       "2        std    hatchback         rwd          front       ohcv       mpfi   \n",
       "3        std        sedan         4wd          front        ohc       mpfi   \n",
       "4        std        sedan         fwd          front        ohc       mpfi   \n",
       "\n",
       "  fuelType         make numCylinders numDoors  \n",
       "0      gas  alfa-romero         four      two  \n",
       "1      gas  alfa-romero         four      two  \n",
       "2      gas  alfa-romero          six      two  \n",
       "3      gas         audi         five     four  \n",
       "4      gas         audi         five      two  "
      ]
     },
     "execution_count": 26,
     "metadata": {},
     "output_type": "execute_result"
    }
   ],
   "source": [
    "X.select_dtypes(include=['object']).head()"
   ]
  },
  {
   "cell_type": "code",
   "execution_count": 27,
   "metadata": {
    "collapsed": false
   },
   "outputs": [
    {
     "data": {
      "text/html": [
       "<div>\n",
       "<table border=\"1\" class=\"dataframe\">\n",
       "  <thead>\n",
       "    <tr style=\"text-align: right;\">\n",
       "      <th></th>\n",
       "      <th>bore</th>\n",
       "      <th>cityMPG</th>\n",
       "      <th>compressionRatio</th>\n",
       "      <th>curbWeight</th>\n",
       "      <th>engineSize</th>\n",
       "      <th>height</th>\n",
       "      <th>highwayMPG</th>\n",
       "      <th>horsepower</th>\n",
       "      <th>length</th>\n",
       "      <th>peakRPM</th>\n",
       "      <th>price</th>\n",
       "      <th>risk</th>\n",
       "      <th>stroke</th>\n",
       "      <th>wheelBase</th>\n",
       "      <th>width</th>\n",
       "    </tr>\n",
       "  </thead>\n",
       "  <tbody>\n",
       "    <tr>\n",
       "      <th>0</th>\n",
       "      <td>3.47</td>\n",
       "      <td>21</td>\n",
       "      <td>9.0</td>\n",
       "      <td>2548</td>\n",
       "      <td>130</td>\n",
       "      <td>48.8</td>\n",
       "      <td>27</td>\n",
       "      <td>111.0</td>\n",
       "      <td>168.8</td>\n",
       "      <td>5000.0</td>\n",
       "      <td>13495.0</td>\n",
       "      <td>3</td>\n",
       "      <td>2.68</td>\n",
       "      <td>88.6</td>\n",
       "      <td>64.1</td>\n",
       "    </tr>\n",
       "    <tr>\n",
       "      <th>1</th>\n",
       "      <td>3.47</td>\n",
       "      <td>21</td>\n",
       "      <td>9.0</td>\n",
       "      <td>2548</td>\n",
       "      <td>130</td>\n",
       "      <td>48.8</td>\n",
       "      <td>27</td>\n",
       "      <td>111.0</td>\n",
       "      <td>168.8</td>\n",
       "      <td>5000.0</td>\n",
       "      <td>16500.0</td>\n",
       "      <td>3</td>\n",
       "      <td>2.68</td>\n",
       "      <td>88.6</td>\n",
       "      <td>64.1</td>\n",
       "    </tr>\n",
       "    <tr>\n",
       "      <th>2</th>\n",
       "      <td>2.68</td>\n",
       "      <td>19</td>\n",
       "      <td>9.0</td>\n",
       "      <td>2823</td>\n",
       "      <td>152</td>\n",
       "      <td>52.4</td>\n",
       "      <td>26</td>\n",
       "      <td>154.0</td>\n",
       "      <td>171.2</td>\n",
       "      <td>5000.0</td>\n",
       "      <td>16500.0</td>\n",
       "      <td>1</td>\n",
       "      <td>3.47</td>\n",
       "      <td>94.5</td>\n",
       "      <td>65.5</td>\n",
       "    </tr>\n",
       "    <tr>\n",
       "      <th>3</th>\n",
       "      <td>3.19</td>\n",
       "      <td>18</td>\n",
       "      <td>8.0</td>\n",
       "      <td>2824</td>\n",
       "      <td>136</td>\n",
       "      <td>54.3</td>\n",
       "      <td>22</td>\n",
       "      <td>115.0</td>\n",
       "      <td>176.6</td>\n",
       "      <td>5500.0</td>\n",
       "      <td>17450.0</td>\n",
       "      <td>2</td>\n",
       "      <td>3.40</td>\n",
       "      <td>99.4</td>\n",
       "      <td>66.4</td>\n",
       "    </tr>\n",
       "    <tr>\n",
       "      <th>4</th>\n",
       "      <td>3.19</td>\n",
       "      <td>19</td>\n",
       "      <td>8.5</td>\n",
       "      <td>2507</td>\n",
       "      <td>136</td>\n",
       "      <td>53.1</td>\n",
       "      <td>25</td>\n",
       "      <td>110.0</td>\n",
       "      <td>177.3</td>\n",
       "      <td>5500.0</td>\n",
       "      <td>15250.0</td>\n",
       "      <td>2</td>\n",
       "      <td>3.40</td>\n",
       "      <td>99.8</td>\n",
       "      <td>66.3</td>\n",
       "    </tr>\n",
       "  </tbody>\n",
       "</table>\n",
       "</div>"
      ],
      "text/plain": [
       "   bore  cityMPG  compressionRatio  curbWeight  engineSize  height  \\\n",
       "0  3.47       21               9.0        2548         130    48.8   \n",
       "1  3.47       21               9.0        2548         130    48.8   \n",
       "2  2.68       19               9.0        2823         152    52.4   \n",
       "3  3.19       18               8.0        2824         136    54.3   \n",
       "4  3.19       19               8.5        2507         136    53.1   \n",
       "\n",
       "   highwayMPG  horsepower  length  peakRPM    price  risk  stroke  wheelBase  \\\n",
       "0          27       111.0   168.8   5000.0  13495.0     3    2.68       88.6   \n",
       "1          27       111.0   168.8   5000.0  16500.0     3    2.68       88.6   \n",
       "2          26       154.0   171.2   5000.0  16500.0     1    3.47       94.5   \n",
       "3          22       115.0   176.6   5500.0  17450.0     2    3.40       99.4   \n",
       "4          25       110.0   177.3   5500.0  15250.0     2    3.40       99.8   \n",
       "\n",
       "   width  \n",
       "0   64.1  \n",
       "1   64.1  \n",
       "2   65.5  \n",
       "3   66.4  \n",
       "4   66.3  "
      ]
     },
     "execution_count": 27,
     "metadata": {},
     "output_type": "execute_result"
    }
   ],
   "source": [
    "X.select_dtypes(exclude=['object']).head()"
   ]
  },
  {
   "cell_type": "code",
   "execution_count": 22,
   "metadata": {
    "collapsed": false
   },
   "outputs": [
    {
     "data": {
      "text/plain": [
       "aspiration           object\n",
       "bodyStyle            object\n",
       "bore                float64\n",
       "cityMPG               int64\n",
       "compressionRatio    float64\n",
       "curbWeight            int64\n",
       "driveWheels          object\n",
       "engineLocation       object\n",
       "engineSize            int64\n",
       "engineType           object\n",
       "fuelSystem           object\n",
       "fuelType             object\n",
       "height              float64\n",
       "highwayMPG            int64\n",
       "horsepower          float64\n",
       "length              float64\n",
       "make                 object\n",
       "numCylinders         object\n",
       "numDoors             object\n",
       "peakRPM             float64\n",
       "price               float64\n",
       "risk                  int64\n",
       "stroke              float64\n",
       "wheelBase           float64\n",
       "width               float64\n",
       "dtype: object"
      ]
     },
     "execution_count": 22,
     "metadata": {},
     "output_type": "execute_result"
    }
   ],
   "source": [
    "X.dtypes"
   ]
  },
  {
   "cell_type": "code",
   "execution_count": 15,
   "metadata": {
    "collapsed": false
   },
   "outputs": [
    {
     "data": {
      "text/plain": [
       "<bound method Index.sort of Index([u'aspiration', u'bodyStyle', u'driveWheels', u'engineLocation',\n",
       "       u'engineType', u'fuelSystem', u'fuelType', u'make', u'numCylinders',\n",
       "       u'numDoors'],\n",
       "      dtype='object')>"
      ]
     },
     "execution_count": 15,
     "metadata": {},
     "output_type": "execute_result"
    }
   ],
   "source": [
    "X.select_dtypes(include=['object']).columns.sort"
   ]
  },
  {
   "cell_type": "code",
   "execution_count": 14,
   "metadata": {
    "collapsed": false
   },
   "outputs": [
    {
     "data": {
      "text/plain": [
       "<bound method Index.sort of Index([u'bore', u'cityMPG', u'compressionRatio', u'curbWeight', u'engineSize',\n",
       "       u'height', u'highwayMPG', u'horsepower', u'length', u'peakRPM',\n",
       "       u'price', u'risk', u'stroke', u'wheelBase', u'width'],\n",
       "      dtype='object')>"
      ]
     },
     "execution_count": 14,
     "metadata": {},
     "output_type": "execute_result"
    }
   ],
   "source": [
    "X.select_dtypes(exclude=['object']).columns.sort"
   ]
  },
  {
   "cell_type": "code",
   "execution_count": 13,
   "metadata": {
    "collapsed": false
   },
   "outputs": [
    {
     "data": {
      "text/plain": [
       "<bound method Index.sort of Index([u'aspiration', u'bodyStyle', u'bore', u'cityMPG', u'compressionRatio',\n",
       "       u'curbWeight', u'driveWheels', u'engineLocation', u'engineSize',\n",
       "       u'engineType', u'fuelSystem', u'fuelType', u'height', u'highwayMPG',\n",
       "       u'horsepower', u'length', u'make', u'numCylinders', u'numDoors',\n",
       "       u'peakRPM', u'price', u'risk', u'stroke', u'wheelBase', u'width'],\n",
       "      dtype='object')>"
      ]
     },
     "execution_count": 13,
     "metadata": {},
     "output_type": "execute_result"
    }
   ],
   "source": [
    "X.columns.sort"
   ]
  },
  {
   "cell_type": "code",
   "execution_count": null,
   "metadata": {
    "collapsed": true
   },
   "outputs": [],
   "source": []
  }
 ],
 "metadata": {
  "anaconda-cloud": {},
  "kernelspec": {
   "display_name": "Python [Root]",
   "language": "python",
   "name": "Python [Root]"
  },
  "language_info": {
   "codemirror_mode": {
    "name": "ipython",
    "version": 2
   },
   "file_extension": ".py",
   "mimetype": "text/x-python",
   "name": "python",
   "nbconvert_exporter": "python",
   "pygments_lexer": "ipython2",
   "version": "2.7.12"
  }
 },
 "nbformat": 4,
 "nbformat_minor": 0
}
