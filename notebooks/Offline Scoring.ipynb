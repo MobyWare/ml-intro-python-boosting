{
 "cells": [
  {
   "cell_type": "code",
   "execution_count": 1,
   "metadata": {
    "collapsed": true
   },
   "outputs": [],
   "source": [
    "import cPickle\n",
    "import json\n",
    "import numpy as np\n",
    "import pandas as pd\n",
    "from sklearn.ensemble import GradientBoostingRegressor\n",
    "from sklearn.pipeline import Pipeline\n",
    "from score_auto_gbm.FeatureTransformer import FeatureTransformer"
   ]
  },
  {
   "cell_type": "code",
   "execution_count": 2,
   "metadata": {
    "collapsed": true
   },
   "outputs": [],
   "source": [
    "with open(\"gbmFit.pkl\", \"rb\") as pickle_file:\n",
    "    gbmFit = cPickle.load(pickle_file)"
   ]
  },
  {
   "cell_type": "code",
   "execution_count": 3,
   "metadata": {
    "collapsed": true
   },
   "outputs": [],
   "source": [
    "def score(record):\n",
    "    datum = json.loads(record)\n",
    "    score = list(gbmFit.predict(pd.DataFrame([datum])))[0]\n",
    "    return json.dumps(score)"
   ]
  },
  {
   "cell_type": "code",
   "execution_count": 4,
   "metadata": {
    "collapsed": false
   },
   "outputs": [
    {
     "name": "stdout",
     "output_type": "stream",
     "text": [
      "0.78488308928032324\n",
      "0.99978623622995488\n",
      "0.14520131926120264\n",
      "0.00047602695754688152\n",
      "0.99991458040281866\n",
      "0.99991458040281866\n",
      "1.9995876660931677\n",
      "1.3224157902700489\n",
      "1.0001180249460448\n",
      "1.1177808900433042\n",
      "0.0001946819176505984\n",
      "3.0932028320970658e-05\n",
      "0.00084216500537457012\n",
      "1.9995378874905989\n",
      "1.9995378874905989\n",
      "1.1850050689999387\n",
      "1.763893343895927\n",
      "0.99983306050542853\n",
      "1.0001046276155432\n",
      "0.99973584636241164\n",
      "0.00024021999504945344\n",
      "7.3299588672116753e-05\n",
      "2.9996514167995838\n",
      "-0.52638308075100781\n",
      "0.016724337306485742\n",
      "0.016724337306485742\n",
      "-2.8204923308308159e-05\n",
      "-0.00010477766387946928\n",
      "1.0002100842451624\n",
      "1.1850050689999387\n",
      "2.99962270583951\n",
      "2.9996243078606204\n",
      "1.9996073670387611\n",
      "0.00029127440377646317\n",
      "0.0001946819176505984\n",
      "0.99999070863700634\n",
      "0.00025611299138624243\n",
      "0.00028333394568963352\n",
      "0.00022805533266072081\n",
      "1.9998561788680871\n",
      "-0.99962152697975848\n",
      "-0.99962152697975848\n",
      "-0.99962152697975848\n",
      "1.9996012026719876\n",
      "0.00017328946984374494\n",
      "-0.99980159382466594\n",
      "-0.99980159382466594\n"
     ]
    }
   ],
   "source": [
    "with open(\"gbm_input_data_multiline.json\", \"rb\") as f:\n",
    "    for line in f:\n",
    "        print score(line)"
   ]
  },
  {
   "cell_type": "code",
   "execution_count": null,
   "metadata": {
    "collapsed": true
   },
   "outputs": [],
   "source": []
  }
 ],
 "metadata": {
  "kernelspec": {
   "display_name": "Python 2",
   "language": "python",
   "name": "python2"
  },
  "language_info": {
   "codemirror_mode": {
    "name": "ipython",
    "version": 2
   },
   "file_extension": ".py",
   "mimetype": "text/x-python",
   "name": "python",
   "nbconvert_exporter": "python",
   "pygments_lexer": "ipython2",
   "version": "2.7.12"
  }
 },
 "nbformat": 4,
 "nbformat_minor": 2
}
