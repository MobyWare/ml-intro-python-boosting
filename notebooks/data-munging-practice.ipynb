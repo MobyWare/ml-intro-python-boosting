{
 "cells": [
  {
   "cell_type": "markdown",
   "metadata": {},
   "source": [
    "# Overview\n",
    "Try to analyze and manipulate the data from _imports-85.data_ (CSV) and *train_data.json* to improve my data-munging skills in __*python*__ and __*Spark*__."
   ]
  },
  {
   "cell_type": "markdown",
   "metadata": {},
   "source": [
    "## Goal 1 - Find out how the risk breaks down by engine\n",
    "\n",
    "Engine type is the fifth column and has values; `std` and `turbo`"
   ]
  },
  {
   "cell_type": "code",
   "execution_count": 1,
   "metadata": {
    "collapsed": false
   },
   "outputs": [
    {
     "data": {
      "text/plain": [
       "[[u'3',\n",
       "  u'?',\n",
       "  u'alfa-romero',\n",
       "  u'gas',\n",
       "  u'std',\n",
       "  u'two',\n",
       "  u'convertible',\n",
       "  u'rwd',\n",
       "  u'front',\n",
       "  u'88.60',\n",
       "  u'168.80',\n",
       "  u'64.10',\n",
       "  u'48.80',\n",
       "  u'2548',\n",
       "  u'dohc',\n",
       "  u'four',\n",
       "  u'130',\n",
       "  u'mpfi',\n",
       "  u'3.47',\n",
       "  u'2.68',\n",
       "  u'9.00',\n",
       "  u'111',\n",
       "  u'5000',\n",
       "  u'21',\n",
       "  u'27',\n",
       "  u'13495'],\n",
       " [u'3',\n",
       "  u'?',\n",
       "  u'alfa-romero',\n",
       "  u'gas',\n",
       "  u'std',\n",
       "  u'two',\n",
       "  u'convertible',\n",
       "  u'rwd',\n",
       "  u'front',\n",
       "  u'88.60',\n",
       "  u'168.80',\n",
       "  u'64.10',\n",
       "  u'48.80',\n",
       "  u'2548',\n",
       "  u'dohc',\n",
       "  u'four',\n",
       "  u'130',\n",
       "  u'mpfi',\n",
       "  u'3.47',\n",
       "  u'2.68',\n",
       "  u'9.00',\n",
       "  u'111',\n",
       "  u'5000',\n",
       "  u'21',\n",
       "  u'27',\n",
       "  u'16500']]"
      ]
     },
     "execution_count": 1,
     "metadata": {},
     "output_type": "execute_result"
    }
   ],
   "source": [
    "rdd = spark.sparkContext.textFile('../data/imports-85.data').map(lambda line: line.split(','))\n",
    "rdd.take(2)"
   ]
  },
  {
   "cell_type": "code",
   "execution_count": 2,
   "metadata": {
    "collapsed": false
   },
   "outputs": [
    {
     "data": {
      "text/plain": [
       "[((u'3', u'std'), 1), ((u'3', u'std'), 1)]"
      ]
     },
     "execution_count": 2,
     "metadata": {},
     "output_type": "execute_result"
    }
   ],
   "source": [
    "groupData = rdd.map(lambda line: ((line[0], line[4]), 1))\n",
    "groupData.take(2)"
   ]
  },
  {
   "cell_type": "code",
   "execution_count": 7,
   "metadata": {
    "collapsed": false
   },
   "outputs": [
    {
     "data": {
      "text/plain": [
       "[((u'3', u'std'), 19), ((u'0', u'turbo'), 11)]"
      ]
     },
     "execution_count": 7,
     "metadata": {},
     "output_type": "execute_result"
    }
   ],
   "source": [
    "groupByRiskAndEngine = groupData.reduceByKey(lambda x, y: x+y)\n",
    "groupByRiskAndEngine.cache()\n",
    "groupByRiskAndEngine.take(2)"
   ]
  },
  {
   "cell_type": "code",
   "execution_count": 15,
   "metadata": {
    "collapsed": false
   },
   "outputs": [
    {
     "name": "stdout",
     "output_type": "stream",
     "text": [
      "[((u'0', u'std'), 56), ((u'1', u'std'), 47), ((u'2', u'std'), 30), ((u'3', u'std'), 19), ((u'-1', u'std'), 14), ((u'0', u'turbo'), 11), ((u'-1', u'turbo'), 8), ((u'3', u'turbo'), 8), ((u'1', u'turbo'), 7), ((u'2', u'turbo'), 2), ((u'-2', u'std'), 2), ((u'-2', u'turbo'), 1)]\n"
     ]
    }
   ],
   "source": [
    "print groupByRiskAndEngine.sortBy(lambda pair: int(pair[1]), False).collect()"
   ]
  }
 ],
 "metadata": {
  "kernelspec": {
   "display_name": "Python [Root]",
   "language": "python",
   "name": "Python [Root]"
  },
  "language_info": {
   "codemirror_mode": {
    "name": "ipython",
    "version": 2
   },
   "file_extension": ".py",
   "mimetype": "text/x-python",
   "name": "python",
   "nbconvert_exporter": "python",
   "pygments_lexer": "ipython2",
   "version": "2.7.12"
  }
 },
 "nbformat": 4,
 "nbformat_minor": 0
}
