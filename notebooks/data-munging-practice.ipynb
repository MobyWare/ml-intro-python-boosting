{
 "cells": [
  {
   "cell_type": "markdown",
   "metadata": {},
   "source": [
    "# Overview\n",
    "Try to analyze and manipulate the data from _imports-85.data_ (CSV) and *train_data.json* to improve my data-munging skills in __*python*__ and __*Spark*__."
   ]
  },
  {
   "cell_type": "markdown",
   "metadata": {},
   "source": [
    "## Goal 1 - Find out how the risk breaks down by engine\n",
    "\n",
    "Engine type is the fifth column and has values; `std` and `turbo`"
   ]
  },
  {
   "cell_type": "code",
   "execution_count": 1,
   "metadata": {
    "collapsed": false
   },
   "outputs": [
    {
     "name": "stdout",
     "output_type": "stream",
     "text": [
      "205\n",
      "[[u'3', u'?', u'alfa-romero', u'gas', u'std', u'two', u'convertible', u'rwd', u'front', u'88.60', u'168.80', u'64.10', u'48.80', u'2548', u'dohc', u'four', u'130', u'mpfi', u'3.47', u'2.68', u'9.00', u'111', u'5000', u'21', u'27', u'13495'], [u'3', u'?', u'alfa-romero', u'gas', u'std', u'two', u'convertible', u'rwd', u'front', u'88.60', u'168.80', u'64.10', u'48.80', u'2548', u'dohc', u'four', u'130', u'mpfi', u'3.47', u'2.68', u'9.00', u'111', u'5000', u'21', u'27', u'16500']]\n"
     ]
    }
   ],
   "source": [
    "rdd = spark.sparkContext.textFile('../data/imports-85.data').map(lambda line: line.split(','))\n",
    "print rdd.count()\n",
    "print rdd.take(2)"
   ]
  },
  {
   "cell_type": "code",
   "execution_count": 2,
   "metadata": {
    "collapsed": false
   },
   "outputs": [
    {
     "data": {
      "text/plain": [
       "[((u'3', u'std'), 1), ((u'3', u'std'), 1)]"
      ]
     },
     "execution_count": 2,
     "metadata": {},
     "output_type": "execute_result"
    }
   ],
   "source": [
    "groupData = rdd.map(lambda line: ((line[0], line[4]), 1))\n",
    "groupData.take(2)"
   ]
  },
  {
   "cell_type": "code",
   "execution_count": 3,
   "metadata": {
    "collapsed": false
   },
   "outputs": [
    {
     "data": {
      "text/plain": [
       "[((u'3', u'std'), 19), ((u'0', u'turbo'), 11)]"
      ]
     },
     "execution_count": 3,
     "metadata": {},
     "output_type": "execute_result"
    }
   ],
   "source": [
    "groupByRiskAndEngine = groupData.reduceByKey(lambda x, y: x+y)\n",
    "groupByRiskAndEngine.cache()\n",
    "groupByRiskAndEngine.take(2)"
   ]
  },
  {
   "cell_type": "code",
   "execution_count": 4,
   "metadata": {
    "collapsed": false
   },
   "outputs": [
    {
     "name": "stdout",
     "output_type": "stream",
     "text": [
      "[((u'0', u'std'), 56), ((u'1', u'std'), 47), ((u'2', u'std'), 30), ((u'3', u'std'), 19), ((u'-1', u'std'), 14), ((u'0', u'turbo'), 11), ((u'-1', u'turbo'), 8), ((u'3', u'turbo'), 8), ((u'1', u'turbo'), 7), ((u'2', u'turbo'), 2), ((u'-2', u'std'), 2), ((u'-2', u'turbo'), 1)]\n"
     ]
    }
   ],
   "source": [
    "print groupByRiskAndEngine.sortBy(lambda pair: int(pair[1]), False).collect()"
   ]
  },
  {
   "cell_type": "code",
   "execution_count": 5,
   "metadata": {
    "collapsed": false
   },
   "outputs": [
    {
     "name": "stdout",
     "output_type": "stream",
     "text": [
      "Sorted Risk for Standard Engines: \n",
      "[((u'0', u'std'), 56), ((u'1', u'std'), 47), ((u'2', u'std'), 30), ((u'3', u'std'), 19), ((u'-1', u'std'), 14), ((u'-2', u'std'), 2)]\n",
      "\n",
      "Sorted Risk for Turbo Engines: \n",
      "[((u'0', u'turbo'), 11), ((u'-1', u'turbo'), 8), ((u'3', u'turbo'), 8), ((u'1', u'turbo'), 7), ((u'2', u'turbo'), 2), ((u'-2', u'turbo'), 1)]\n"
     ]
    }
   ],
   "source": [
    "stdRiskAndEngine = groupByRiskAndEngine.filter(lambda pair: pair[0][1]=='std')\n",
    "turboRiskAndEngine = groupByRiskAndEngine.filter(lambda pair: pair[0][1]=='turbo')\n",
    "\n",
    "stdRiskAndEngine.cache()\n",
    "turboRiskAndEngine.cache()\n",
    "\n",
    "print('Sorted Risk for Standard Engines: \\n%s\\n' % (stdRiskAndEngine.sortBy(lambda pair: int(pair[1]), False).collect()))\n",
    "\n",
    "print('Sorted Risk for Turbo Engines: \\n%s' % (turboRiskAndEngine.sortBy(lambda pair: int(pair[1]), False).collect()))\n"
   ]
  },
  {
   "cell_type": "code",
   "execution_count": 6,
   "metadata": {
    "collapsed": false
   },
   "outputs": [
    {
     "name": "stdout",
     "output_type": "stream",
     "text": [
      "The std cummulative risk is: 146 and the turbo cummulative risk is: 25\n",
      "The std weighted risk is (168): 0.869048 and the turbo weighted risk is(37): 0.675676\n"
     ]
    }
   ],
   "source": [
    "stdRisk = stdRiskAndEngine.map(lambda pair: int(pair[0][0]) * pair[1]).reduce(lambda x,y:x+y)\n",
    "stdCount = stdRiskAndEngine.map(lambda pair: int(pair[1])).reduce(lambda x,y:x+y)\n",
    "stdRiskWeighted = float(stdRisk)/float(stdCount)\n",
    "\n",
    "turboRisk = turboRiskAndEngine.map(lambda pair: int(pair[0][0]) * pair[1]).reduce(lambda x,y:x+y)\n",
    "turboCount = turboRiskAndEngine.map(lambda pair: int(pair[1])).reduce(lambda x,y:x+y)\n",
    "turboRiskWeighted = float(turboRisk)/float(turboCount)\n",
    "\n",
    "print('The std cummulative risk is: %d and the turbo cummulative risk is: %d' % (stdRisk, turboRisk))\n",
    "print('The std weighted risk is (%d): %f and the turbo weighted risk is(%d): %f' % (stdCount, stdRiskWeighted, turboCount, turboRiskWeighted))"
   ]
  },
  {
   "cell_type": "markdown",
   "metadata": {},
   "source": [
    "## Goal 2 - Evaluate Cross Val Model"
   ]
  },
  {
   "cell_type": "code",
   "execution_count": 7,
   "metadata": {
    "collapsed": false
   },
   "outputs": [],
   "source": [
    "import cPickle\n",
    "import json\n",
    "import numpy as np\n",
    "import pandas as pd\n",
    "from sklearn.ensemble import GradientBoostingRegressor\n",
    "from sklearn.pipeline import Pipeline\n",
    "from score_auto_gbm.FeatureTransformer import FeatureTransformer"
   ]
  },
  {
   "cell_type": "code",
   "execution_count": 14,
   "metadata": {
    "collapsed": true
   },
   "outputs": [],
   "source": [
    "def is_number(s):\n",
    "    try:\n",
    "        float(s)\n",
    "        return True\n",
    "    except ValueError:\n",
    "        return False"
   ]
  },
  {
   "cell_type": "code",
   "execution_count": 8,
   "metadata": {
    "collapsed": false
   },
   "outputs": [],
   "source": [
    "with open(\"./score_auto_gbm/gbmFit.pkl\", \"rb\") as pickle_file:\n",
    "    gbmFit = cPickle.load(pickle_file)"
   ]
  },
  {
   "cell_type": "code",
   "execution_count": 20,
   "metadata": {
    "collapsed": false
   },
   "outputs": [
    {
     "data": {
      "text/html": [
       "<div>\n",
       "<table border=\"1\" class=\"dataframe\">\n",
       "  <thead>\n",
       "    <tr style=\"text-align: right;\">\n",
       "      <th></th>\n",
       "      <th>risk</th>\n",
       "      <th>normalizedLosses</th>\n",
       "      <th>make</th>\n",
       "      <th>fuelType</th>\n",
       "      <th>aspiration</th>\n",
       "      <th>numDoors</th>\n",
       "      <th>bodyStyle</th>\n",
       "      <th>driveWheels</th>\n",
       "      <th>engineLocation</th>\n",
       "      <th>wheelBase</th>\n",
       "      <th>...</th>\n",
       "      <th>engineSize</th>\n",
       "      <th>fuelSystem</th>\n",
       "      <th>bore</th>\n",
       "      <th>stroke</th>\n",
       "      <th>compressionRatio</th>\n",
       "      <th>horsepower</th>\n",
       "      <th>peakRPM</th>\n",
       "      <th>cityMPG</th>\n",
       "      <th>highwayMPG</th>\n",
       "      <th>price</th>\n",
       "    </tr>\n",
       "  </thead>\n",
       "  <tbody>\n",
       "    <tr>\n",
       "      <th>0</th>\n",
       "      <td>3</td>\n",
       "      <td>?</td>\n",
       "      <td>alfa-romero</td>\n",
       "      <td>gas</td>\n",
       "      <td>std</td>\n",
       "      <td>two</td>\n",
       "      <td>convertible</td>\n",
       "      <td>rwd</td>\n",
       "      <td>front</td>\n",
       "      <td>88.6</td>\n",
       "      <td>...</td>\n",
       "      <td>130</td>\n",
       "      <td>mpfi</td>\n",
       "      <td>3.47</td>\n",
       "      <td>2.68</td>\n",
       "      <td>9.0</td>\n",
       "      <td>111</td>\n",
       "      <td>5000</td>\n",
       "      <td>21</td>\n",
       "      <td>27</td>\n",
       "      <td>13495</td>\n",
       "    </tr>\n",
       "    <tr>\n",
       "      <th>1</th>\n",
       "      <td>3</td>\n",
       "      <td>?</td>\n",
       "      <td>alfa-romero</td>\n",
       "      <td>gas</td>\n",
       "      <td>std</td>\n",
       "      <td>two</td>\n",
       "      <td>convertible</td>\n",
       "      <td>rwd</td>\n",
       "      <td>front</td>\n",
       "      <td>88.6</td>\n",
       "      <td>...</td>\n",
       "      <td>130</td>\n",
       "      <td>mpfi</td>\n",
       "      <td>3.47</td>\n",
       "      <td>2.68</td>\n",
       "      <td>9.0</td>\n",
       "      <td>111</td>\n",
       "      <td>5000</td>\n",
       "      <td>21</td>\n",
       "      <td>27</td>\n",
       "      <td>16500</td>\n",
       "    </tr>\n",
       "    <tr>\n",
       "      <th>2</th>\n",
       "      <td>1</td>\n",
       "      <td>?</td>\n",
       "      <td>alfa-romero</td>\n",
       "      <td>gas</td>\n",
       "      <td>std</td>\n",
       "      <td>two</td>\n",
       "      <td>hatchback</td>\n",
       "      <td>rwd</td>\n",
       "      <td>front</td>\n",
       "      <td>94.5</td>\n",
       "      <td>...</td>\n",
       "      <td>152</td>\n",
       "      <td>mpfi</td>\n",
       "      <td>2.68</td>\n",
       "      <td>3.47</td>\n",
       "      <td>9.0</td>\n",
       "      <td>154</td>\n",
       "      <td>5000</td>\n",
       "      <td>19</td>\n",
       "      <td>26</td>\n",
       "      <td>16500</td>\n",
       "    </tr>\n",
       "    <tr>\n",
       "      <th>3</th>\n",
       "      <td>2</td>\n",
       "      <td>164</td>\n",
       "      <td>audi</td>\n",
       "      <td>gas</td>\n",
       "      <td>std</td>\n",
       "      <td>four</td>\n",
       "      <td>sedan</td>\n",
       "      <td>fwd</td>\n",
       "      <td>front</td>\n",
       "      <td>99.8</td>\n",
       "      <td>...</td>\n",
       "      <td>109</td>\n",
       "      <td>mpfi</td>\n",
       "      <td>3.19</td>\n",
       "      <td>3.40</td>\n",
       "      <td>10.0</td>\n",
       "      <td>102</td>\n",
       "      <td>5500</td>\n",
       "      <td>24</td>\n",
       "      <td>30</td>\n",
       "      <td>13950</td>\n",
       "    </tr>\n",
       "    <tr>\n",
       "      <th>4</th>\n",
       "      <td>2</td>\n",
       "      <td>164</td>\n",
       "      <td>audi</td>\n",
       "      <td>gas</td>\n",
       "      <td>std</td>\n",
       "      <td>four</td>\n",
       "      <td>sedan</td>\n",
       "      <td>4wd</td>\n",
       "      <td>front</td>\n",
       "      <td>99.4</td>\n",
       "      <td>...</td>\n",
       "      <td>136</td>\n",
       "      <td>mpfi</td>\n",
       "      <td>3.19</td>\n",
       "      <td>3.40</td>\n",
       "      <td>8.0</td>\n",
       "      <td>115</td>\n",
       "      <td>5500</td>\n",
       "      <td>18</td>\n",
       "      <td>22</td>\n",
       "      <td>17450</td>\n",
       "    </tr>\n",
       "  </tbody>\n",
       "</table>\n",
       "<p>5 rows × 26 columns</p>\n",
       "</div>"
      ],
      "text/plain": [
       "   risk normalizedLosses         make fuelType aspiration numDoors  \\\n",
       "0     3                ?  alfa-romero      gas        std      two   \n",
       "1     3                ?  alfa-romero      gas        std      two   \n",
       "2     1                ?  alfa-romero      gas        std      two   \n",
       "3     2              164         audi      gas        std     four   \n",
       "4     2              164         audi      gas        std     four   \n",
       "\n",
       "     bodyStyle driveWheels engineLocation  wheelBase  ...    engineSize  \\\n",
       "0  convertible         rwd          front       88.6  ...           130   \n",
       "1  convertible         rwd          front       88.6  ...           130   \n",
       "2    hatchback         rwd          front       94.5  ...           152   \n",
       "3        sedan         fwd          front       99.8  ...           109   \n",
       "4        sedan         4wd          front       99.4  ...           136   \n",
       "\n",
       "   fuelSystem  bore  stroke compressionRatio horsepower  peakRPM cityMPG  \\\n",
       "0        mpfi  3.47    2.68              9.0        111     5000      21   \n",
       "1        mpfi  3.47    2.68              9.0        111     5000      21   \n",
       "2        mpfi  2.68    3.47              9.0        154     5000      19   \n",
       "3        mpfi  3.19    3.40             10.0        102     5500      24   \n",
       "4        mpfi  3.19    3.40              8.0        115     5500      18   \n",
       "\n",
       "  highwayMPG  price  \n",
       "0         27  13495  \n",
       "1         27  16500  \n",
       "2         26  16500  \n",
       "3         30  13950  \n",
       "4         22  17450  \n",
       "\n",
       "[5 rows x 26 columns]"
      ]
     },
     "execution_count": 20,
     "metadata": {},
     "output_type": "execute_result"
    }
   ],
   "source": [
    "data = pd.read_csv('../data/imports-85.data', header=None)\n",
    "data.columns = [u'risk', u'normalizedLosses', u'make', u'fuelType', u'aspiration', u'numDoors',\n",
    "       u'bodyStyle', u'driveWheels', u'engineLocation', u'wheelBase',\n",
    "       u'length', u'width', u'height', u'curbWeight', u'engineType',\n",
    "       u'numCylinders', u'engineSize', u'fuelSystem', u'bore', u'stroke',\n",
    "       u'compressionRatio', u'horsepower', u'peakRPM', u'cityMPG', u'highwayMPG', u'price']\n",
    "data.head()"
   ]
  },
  {
   "cell_type": "code",
   "execution_count": 21,
   "metadata": {
    "collapsed": false
   },
   "outputs": [
    {
     "data": {
      "text/html": [
       "<div>\n",
       "<table border=\"1\" class=\"dataframe\">\n",
       "  <thead>\n",
       "    <tr style=\"text-align: right;\">\n",
       "      <th></th>\n",
       "      <th>make</th>\n",
       "      <th>fuelType</th>\n",
       "      <th>aspiration</th>\n",
       "      <th>numDoors</th>\n",
       "      <th>bodyStyle</th>\n",
       "      <th>driveWheels</th>\n",
       "      <th>engineLocation</th>\n",
       "      <th>wheelBase</th>\n",
       "      <th>length</th>\n",
       "      <th>width</th>\n",
       "      <th>...</th>\n",
       "      <th>engineSize</th>\n",
       "      <th>fuelSystem</th>\n",
       "      <th>bore</th>\n",
       "      <th>stroke</th>\n",
       "      <th>compressionRatio</th>\n",
       "      <th>horsepower</th>\n",
       "      <th>peakRPM</th>\n",
       "      <th>cityMPG</th>\n",
       "      <th>highwayMPG</th>\n",
       "      <th>price</th>\n",
       "    </tr>\n",
       "  </thead>\n",
       "  <tbody>\n",
       "    <tr>\n",
       "      <th>0</th>\n",
       "      <td>alfa-romero</td>\n",
       "      <td>gas</td>\n",
       "      <td>std</td>\n",
       "      <td>two</td>\n",
       "      <td>convertible</td>\n",
       "      <td>rwd</td>\n",
       "      <td>front</td>\n",
       "      <td>88.6</td>\n",
       "      <td>168.8</td>\n",
       "      <td>64.1</td>\n",
       "      <td>...</td>\n",
       "      <td>130</td>\n",
       "      <td>mpfi</td>\n",
       "      <td>3.47</td>\n",
       "      <td>2.68</td>\n",
       "      <td>9.0</td>\n",
       "      <td>111</td>\n",
       "      <td>5000</td>\n",
       "      <td>21</td>\n",
       "      <td>27</td>\n",
       "      <td>13495</td>\n",
       "    </tr>\n",
       "    <tr>\n",
       "      <th>1</th>\n",
       "      <td>alfa-romero</td>\n",
       "      <td>gas</td>\n",
       "      <td>std</td>\n",
       "      <td>two</td>\n",
       "      <td>convertible</td>\n",
       "      <td>rwd</td>\n",
       "      <td>front</td>\n",
       "      <td>88.6</td>\n",
       "      <td>168.8</td>\n",
       "      <td>64.1</td>\n",
       "      <td>...</td>\n",
       "      <td>130</td>\n",
       "      <td>mpfi</td>\n",
       "      <td>3.47</td>\n",
       "      <td>2.68</td>\n",
       "      <td>9.0</td>\n",
       "      <td>111</td>\n",
       "      <td>5000</td>\n",
       "      <td>21</td>\n",
       "      <td>27</td>\n",
       "      <td>16500</td>\n",
       "    </tr>\n",
       "    <tr>\n",
       "      <th>2</th>\n",
       "      <td>alfa-romero</td>\n",
       "      <td>gas</td>\n",
       "      <td>std</td>\n",
       "      <td>two</td>\n",
       "      <td>hatchback</td>\n",
       "      <td>rwd</td>\n",
       "      <td>front</td>\n",
       "      <td>94.5</td>\n",
       "      <td>171.2</td>\n",
       "      <td>65.5</td>\n",
       "      <td>...</td>\n",
       "      <td>152</td>\n",
       "      <td>mpfi</td>\n",
       "      <td>2.68</td>\n",
       "      <td>3.47</td>\n",
       "      <td>9.0</td>\n",
       "      <td>154</td>\n",
       "      <td>5000</td>\n",
       "      <td>19</td>\n",
       "      <td>26</td>\n",
       "      <td>16500</td>\n",
       "    </tr>\n",
       "    <tr>\n",
       "      <th>3</th>\n",
       "      <td>audi</td>\n",
       "      <td>gas</td>\n",
       "      <td>std</td>\n",
       "      <td>four</td>\n",
       "      <td>sedan</td>\n",
       "      <td>fwd</td>\n",
       "      <td>front</td>\n",
       "      <td>99.8</td>\n",
       "      <td>176.6</td>\n",
       "      <td>66.2</td>\n",
       "      <td>...</td>\n",
       "      <td>109</td>\n",
       "      <td>mpfi</td>\n",
       "      <td>3.19</td>\n",
       "      <td>3.40</td>\n",
       "      <td>10.0</td>\n",
       "      <td>102</td>\n",
       "      <td>5500</td>\n",
       "      <td>24</td>\n",
       "      <td>30</td>\n",
       "      <td>13950</td>\n",
       "    </tr>\n",
       "    <tr>\n",
       "      <th>4</th>\n",
       "      <td>audi</td>\n",
       "      <td>gas</td>\n",
       "      <td>std</td>\n",
       "      <td>four</td>\n",
       "      <td>sedan</td>\n",
       "      <td>4wd</td>\n",
       "      <td>front</td>\n",
       "      <td>99.4</td>\n",
       "      <td>176.6</td>\n",
       "      <td>66.4</td>\n",
       "      <td>...</td>\n",
       "      <td>136</td>\n",
       "      <td>mpfi</td>\n",
       "      <td>3.19</td>\n",
       "      <td>3.40</td>\n",
       "      <td>8.0</td>\n",
       "      <td>115</td>\n",
       "      <td>5500</td>\n",
       "      <td>18</td>\n",
       "      <td>22</td>\n",
       "      <td>17450</td>\n",
       "    </tr>\n",
       "  </tbody>\n",
       "</table>\n",
       "<p>5 rows × 24 columns</p>\n",
       "</div>"
      ],
      "text/plain": [
       "          make fuelType aspiration numDoors    bodyStyle driveWheels  \\\n",
       "0  alfa-romero      gas        std      two  convertible         rwd   \n",
       "1  alfa-romero      gas        std      two  convertible         rwd   \n",
       "2  alfa-romero      gas        std      two    hatchback         rwd   \n",
       "3         audi      gas        std     four        sedan         fwd   \n",
       "4         audi      gas        std     four        sedan         4wd   \n",
       "\n",
       "  engineLocation  wheelBase  length  width  ...    engineSize  fuelSystem  \\\n",
       "0          front       88.6   168.8   64.1  ...           130        mpfi   \n",
       "1          front       88.6   168.8   64.1  ...           130        mpfi   \n",
       "2          front       94.5   171.2   65.5  ...           152        mpfi   \n",
       "3          front       99.8   176.6   66.2  ...           109        mpfi   \n",
       "4          front       99.4   176.6   66.4  ...           136        mpfi   \n",
       "\n",
       "   bore stroke  compressionRatio horsepower peakRPM cityMPG  highwayMPG  price  \n",
       "0  3.47   2.68               9.0        111    5000      21          27  13495  \n",
       "1  3.47   2.68               9.0        111    5000      21          27  16500  \n",
       "2  2.68   3.47               9.0        154    5000      19          26  16500  \n",
       "3  3.19   3.40              10.0        102    5500      24          30  13950  \n",
       "4  3.19   3.40               8.0        115    5500      18          22  17450  \n",
       "\n",
       "[5 rows x 24 columns]"
      ]
     },
     "execution_count": 21,
     "metadata": {},
     "output_type": "execute_result"
    }
   ],
   "source": [
    "trainData = data.ix[:,2:]\n",
    "\n",
    "trainData.head()"
   ]
  },
  {
   "cell_type": "code",
   "execution_count": 37,
   "metadata": {
    "collapsed": false
   },
   "outputs": [
    {
     "name": "stdout",
     "output_type": "stream",
     "text": [
      "The number of instances was: 205.\n",
      " The squaured error was: 10.487928.\n",
      " RMSE: 0.226187.\n"
     ]
    }
   ],
   "source": [
    "squareError = float(0)\n",
    "\n",
    "for idx, row in enumerate(trainData.to_dict(orient='records')):\n",
    "    try:\n",
    "        prediction = list(gbmFit.predict(pd.DataFrame([row])))[0]\n",
    "    except ValueError:\n",
    "        continue\n",
    "    \n",
    "    if is_number(data.ix[idx,0]) == True and is_number(prediction) == True:\n",
    "        squareError += (float(prediction) - float(data.ix[idx,0]))**2\n",
    "\n",
    "number = trainData.index.size\n",
    "rmse = (squareError/trainData.index.size)**0.5\n",
    "\n",
    "print ('The number of instances was: %d.\\n The squaured error was: %f.\\n RMSE: %f.' % (number,squareError,rmse))\n"
   ]
  },
  {
   "cell_type": "code",
   "execution_count": 35,
   "metadata": {
    "collapsed": false
   },
   "outputs": [
    {
     "data": {
      "text/plain": [
       "205"
      ]
     },
     "execution_count": 35,
     "metadata": {},
     "output_type": "execute_result"
    }
   ],
   "source": [
    "trainData.index.size"
   ]
  },
  {
   "cell_type": "code",
   "execution_count": 7,
   "metadata": {
    "collapsed": false
   },
   "outputs": [
    {
     "data": {
      "text/plain": [
       "[{u'aspiration': '?',\n",
       "  u'bodyStyle': 'alfa-romero',\n",
       "  u'bore': 'gas',\n",
       "  u'cityMPG': 'std',\n",
       "  u'compressionRatio': 'two',\n",
       "  u'curbWeight': 'convertible',\n",
       "  u'driveWheels': 'rwd',\n",
       "  u'engineLocation': 'front',\n",
       "  u'engineSize': 88.6,\n",
       "  u'engineType': 168.8,\n",
       "  u'fuelSystem': 64.1,\n",
       "  u'fuelType': 48.8,\n",
       "  u'height': 2548L,\n",
       "  u'highwayMPG': 'dohc',\n",
       "  u'horsepower': 'four',\n",
       "  u'length': 130L,\n",
       "  u'make': 'mpfi',\n",
       "  u'numCylinders': '3.47',\n",
       "  u'numDoors': '2.68',\n",
       "  u'peakRPM': 9.0,\n",
       "  u'price': '111',\n",
       "  u'risk': '5000',\n",
       "  u'stroke': 21L,\n",
       "  u'wheelBase': 27L,\n",
       "  u'width': '13495'},\n",
       " {u'aspiration': '?',\n",
       "  u'bodyStyle': 'alfa-romero',\n",
       "  u'bore': 'gas',\n",
       "  u'cityMPG': 'std',\n",
       "  u'compressionRatio': 'two',\n",
       "  u'curbWeight': 'convertible',\n",
       "  u'driveWheels': 'rwd',\n",
       "  u'engineLocation': 'front',\n",
       "  u'engineSize': 88.6,\n",
       "  u'engineType': 168.8,\n",
       "  u'fuelSystem': 64.1,\n",
       "  u'fuelType': 48.8,\n",
       "  u'height': 2548L,\n",
       "  u'highwayMPG': 'dohc',\n",
       "  u'horsepower': 'four',\n",
       "  u'length': 130L,\n",
       "  u'make': 'mpfi',\n",
       "  u'numCylinders': '3.47',\n",
       "  u'numDoors': '2.68',\n",
       "  u'peakRPM': 9.0,\n",
       "  u'price': '111',\n",
       "  u'risk': '5000',\n",
       "  u'stroke': 21L,\n",
       "  u'wheelBase': 27L,\n",
       "  u'width': '16500'},\n",
       " {u'aspiration': '?',\n",
       "  u'bodyStyle': 'alfa-romero',\n",
       "  u'bore': 'gas',\n",
       "  u'cityMPG': 'std',\n",
       "  u'compressionRatio': 'two',\n",
       "  u'curbWeight': 'hatchback',\n",
       "  u'driveWheels': 'rwd',\n",
       "  u'engineLocation': 'front',\n",
       "  u'engineSize': 94.5,\n",
       "  u'engineType': 171.2,\n",
       "  u'fuelSystem': 65.5,\n",
       "  u'fuelType': 52.4,\n",
       "  u'height': 2823L,\n",
       "  u'highwayMPG': 'ohcv',\n",
       "  u'horsepower': 'six',\n",
       "  u'length': 152L,\n",
       "  u'make': 'mpfi',\n",
       "  u'numCylinders': '2.68',\n",
       "  u'numDoors': '3.47',\n",
       "  u'peakRPM': 9.0,\n",
       "  u'price': '154',\n",
       "  u'risk': '5000',\n",
       "  u'stroke': 19L,\n",
       "  u'wheelBase': 26L,\n",
       "  u'width': '16500'},\n",
       " {u'aspiration': '164',\n",
       "  u'bodyStyle': 'audi',\n",
       "  u'bore': 'gas',\n",
       "  u'cityMPG': 'std',\n",
       "  u'compressionRatio': 'four',\n",
       "  u'curbWeight': 'sedan',\n",
       "  u'driveWheels': 'fwd',\n",
       "  u'engineLocation': 'front',\n",
       "  u'engineSize': 99.8,\n",
       "  u'engineType': 176.6,\n",
       "  u'fuelSystem': 66.2,\n",
       "  u'fuelType': 54.3,\n",
       "  u'height': 2337L,\n",
       "  u'highwayMPG': 'ohc',\n",
       "  u'horsepower': 'four',\n",
       "  u'length': 109L,\n",
       "  u'make': 'mpfi',\n",
       "  u'numCylinders': '3.19',\n",
       "  u'numDoors': '3.40',\n",
       "  u'peakRPM': 10.0,\n",
       "  u'price': '102',\n",
       "  u'risk': '5500',\n",
       "  u'stroke': 24L,\n",
       "  u'wheelBase': 30L,\n",
       "  u'width': '13950'},\n",
       " {u'aspiration': '164',\n",
       "  u'bodyStyle': 'audi',\n",
       "  u'bore': 'gas',\n",
       "  u'cityMPG': 'std',\n",
       "  u'compressionRatio': 'four',\n",
       "  u'curbWeight': 'sedan',\n",
       "  u'driveWheels': '4wd',\n",
       "  u'engineLocation': 'front',\n",
       "  u'engineSize': 99.4,\n",
       "  u'engineType': 176.6,\n",
       "  u'fuelSystem': 66.4,\n",
       "  u'fuelType': 54.3,\n",
       "  u'height': 2824L,\n",
       "  u'highwayMPG': 'ohc',\n",
       "  u'horsepower': 'five',\n",
       "  u'length': 136L,\n",
       "  u'make': 'mpfi',\n",
       "  u'numCylinders': '3.19',\n",
       "  u'numDoors': '3.40',\n",
       "  u'peakRPM': 8.0,\n",
       "  u'price': '115',\n",
       "  u'risk': '5500',\n",
       "  u'stroke': 18L,\n",
       "  u'wheelBase': 22L,\n",
       "  u'width': '17450'}]"
      ]
     },
     "execution_count": 7,
     "metadata": {},
     "output_type": "execute_result"
    }
   ],
   "source": [
    "trainData.head().to_dict(orient='records')"
   ]
  },
  {
   "cell_type": "markdown",
   "metadata": {
    "collapsed": true
   },
   "source": [
    "## Goal 3 - Use munging & math to evaluate how good RMSE was"
   ]
  }
 ],
 "metadata": {
  "anaconda-cloud": {},
  "kernelspec": {
   "display_name": "Python 2",
   "language": "python",
   "name": "python2"
  },
  "language_info": {
   "codemirror_mode": {
    "name": "ipython",
    "version": 2
   },
   "file_extension": ".py",
   "mimetype": "text/x-python",
   "name": "python",
   "nbconvert_exporter": "python",
   "pygments_lexer": "ipython2",
   "version": "2.7.13"
  }
 },
 "nbformat": 4,
 "nbformat_minor": 0
}
