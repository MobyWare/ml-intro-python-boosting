{
 "cells": [
  {
   "cell_type": "markdown",
   "metadata": {},
   "source": [
    "# Overview\n",
    "Try to analyze and manipulate the data from _imports-85.data_ (CSV) and *train_data.json* to improve my data-munging skills in __*python*__ and __*Spark*__."
   ]
  },
  {
   "cell_type": "markdown",
   "metadata": {},
   "source": [
    "## Goal 1 - Find out how the risk breaks down by engine\n",
    "\n",
    "Engine type is the fifth column and has values; `std` and `turbo`"
   ]
  },
  {
   "cell_type": "code",
   "execution_count": 1,
   "metadata": {
    "collapsed": false
   },
   "outputs": [
    {
     "name": "stdout",
     "output_type": "stream",
     "text": [
      "205\n",
      "[[u'3', u'?', u'alfa-romero', u'gas', u'std', u'two', u'convertible', u'rwd', u'front', u'88.60', u'168.80', u'64.10', u'48.80', u'2548', u'dohc', u'four', u'130', u'mpfi', u'3.47', u'2.68', u'9.00', u'111', u'5000', u'21', u'27', u'13495'], [u'3', u'?', u'alfa-romero', u'gas', u'std', u'two', u'convertible', u'rwd', u'front', u'88.60', u'168.80', u'64.10', u'48.80', u'2548', u'dohc', u'four', u'130', u'mpfi', u'3.47', u'2.68', u'9.00', u'111', u'5000', u'21', u'27', u'16500']]\n"
     ]
    }
   ],
   "source": [
    "rdd = spark.sparkContext.textFile('../data/imports-85.data').map(lambda line: line.split(','))\n",
    "print rdd.count()\n",
    "print rdd.take(2)"
   ]
  },
  {
   "cell_type": "code",
   "execution_count": 2,
   "metadata": {
    "collapsed": false
   },
   "outputs": [
    {
     "data": {
      "text/plain": [
       "[((u'3', u'std'), 1), ((u'3', u'std'), 1)]"
      ]
     },
     "execution_count": 2,
     "metadata": {},
     "output_type": "execute_result"
    }
   ],
   "source": [
    "groupData = rdd.map(lambda line: ((line[0], line[4]), 1))\n",
    "groupData.take(2)"
   ]
  },
  {
   "cell_type": "code",
   "execution_count": 3,
   "metadata": {
    "collapsed": false
   },
   "outputs": [
    {
     "data": {
      "text/plain": [
       "[((u'3', u'std'), 19), ((u'0', u'turbo'), 11)]"
      ]
     },
     "execution_count": 3,
     "metadata": {},
     "output_type": "execute_result"
    }
   ],
   "source": [
    "groupByRiskAndEngine = groupData.reduceByKey(lambda x, y: x+y)\n",
    "groupByRiskAndEngine.cache()\n",
    "groupByRiskAndEngine.take(2)"
   ]
  },
  {
   "cell_type": "code",
   "execution_count": 4,
   "metadata": {
    "collapsed": false
   },
   "outputs": [
    {
     "name": "stdout",
     "output_type": "stream",
     "text": [
      "[((u'0', u'std'), 56), ((u'1', u'std'), 47), ((u'2', u'std'), 30), ((u'3', u'std'), 19), ((u'-1', u'std'), 14), ((u'0', u'turbo'), 11), ((u'-1', u'turbo'), 8), ((u'3', u'turbo'), 8), ((u'1', u'turbo'), 7), ((u'2', u'turbo'), 2), ((u'-2', u'std'), 2), ((u'-2', u'turbo'), 1)]\n"
     ]
    }
   ],
   "source": [
    "print groupByRiskAndEngine.sortBy(lambda pair: int(pair[1]), False).collect()"
   ]
  },
  {
   "cell_type": "code",
   "execution_count": 5,
   "metadata": {
    "collapsed": false
   },
   "outputs": [
    {
     "name": "stdout",
     "output_type": "stream",
     "text": [
      "Sorted Risk for Standard Engines: \n",
      "[((u'0', u'std'), 56), ((u'1', u'std'), 47), ((u'2', u'std'), 30), ((u'3', u'std'), 19), ((u'-1', u'std'), 14), ((u'-2', u'std'), 2)]\n",
      "\n",
      "Sorted Risk for Turbo Engines: \n",
      "[((u'0', u'turbo'), 11), ((u'-1', u'turbo'), 8), ((u'3', u'turbo'), 8), ((u'1', u'turbo'), 7), ((u'2', u'turbo'), 2), ((u'-2', u'turbo'), 1)]\n"
     ]
    }
   ],
   "source": [
    "stdRiskAndEngine = groupByRiskAndEngine.filter(lambda pair: pair[0][1]=='std')\n",
    "turboRiskAndEngine = groupByRiskAndEngine.filter(lambda pair: pair[0][1]=='turbo')\n",
    "\n",
    "stdRiskAndEngine.cache()\n",
    "turboRiskAndEngine.cache()\n",
    "\n",
    "print('Sorted Risk for Standard Engines: \\n%s\\n' % (stdRiskAndEngine.sortBy(lambda pair: int(pair[1]), False).collect()))\n",
    "\n",
    "print('Sorted Risk for Turbo Engines: \\n%s' % (turboRiskAndEngine.sortBy(lambda pair: int(pair[1]), False).collect()))\n"
   ]
  },
  {
   "cell_type": "code",
   "execution_count": 6,
   "metadata": {
    "collapsed": false
   },
   "outputs": [
    {
     "name": "stdout",
     "output_type": "stream",
     "text": [
      "The std cummulative risk is: 146 and the turbo cummulative risk is: 25\n",
      "The std weighted risk is (168): 0.869048 and the turbo weighted risk is(37): 0.675676\n"
     ]
    }
   ],
   "source": [
    "stdRisk = stdRiskAndEngine.map(lambda pair: int(pair[0][0]) * pair[1]).reduce(lambda x,y:x+y)\n",
    "stdCount = stdRiskAndEngine.map(lambda pair: int(pair[1])).reduce(lambda x,y:x+y)\n",
    "stdRiskWeighted = float(stdRisk)/float(stdCount)\n",
    "\n",
    "turboRisk = turboRiskAndEngine.map(lambda pair: int(pair[0][0]) * pair[1]).reduce(lambda x,y:x+y)\n",
    "turboCount = turboRiskAndEngine.map(lambda pair: int(pair[1])).reduce(lambda x,y:x+y)\n",
    "turboRiskWeighted = float(turboRisk)/float(turboCount)\n",
    "\n",
    "print('The std cummulative risk is: %d and the turbo cummulative risk is: %d' % (stdRisk, turboRisk))\n",
    "print('The std weighted risk is (%d): %f and the turbo weighted risk is(%d): %f' % \n",
    "      (stdCount, stdRiskWeighted, turboCount, turboRiskWeighted))"
   ]
  }
 ],
 "metadata": {
  "kernelspec": {
   "display_name": "Python [Root]",
   "language": "python",
   "name": "Python [Root]"
  },
  "language_info": {
   "codemirror_mode": {
    "name": "ipython",
    "version": 2
   },
   "file_extension": ".py",
   "mimetype": "text/x-python",
   "name": "python",
   "nbconvert_exporter": "python",
   "pygments_lexer": "ipython2",
   "version": "2.7.12"
  }
 },
 "nbformat": 4,
 "nbformat_minor": 0
}
