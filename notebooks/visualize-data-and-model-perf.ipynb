{
 "cells": [
  {
   "cell_type": "markdown",
   "metadata": {},
   "source": [
    "# Goal\n",
    "1. To visualize car data for exploration.\n",
    "2. To visualize the data about model evaluation. Examples include:\n",
    "    1. Look at the variance in prediction per target variable (boxplot)\n"
   ]
  },
  {
   "cell_type": "code",
   "execution_count": 15,
   "metadata": {
    "collapsed": true
   },
   "outputs": [],
   "source": [
    "%matplotlib inline\n",
    "import pandas as pd\n",
    "from ggplot import *"
   ]
  },
  {
   "cell_type": "code",
   "execution_count": 5,
   "metadata": {
    "collapsed": false
   },
   "outputs": [],
   "source": [
    "cars = pd.read_csv('../data/imports-85.data')\n",
    "cars.columns = [u'risk', u'normalizedLosses', u'make', u'fuelType', u'aspiration', u'numDoors',\n",
    "       u'bodyStyle', u'driveWheels', u'engineLocation', u'wheelBase',\n",
    "       u'length', u'width', u'height', u'curbWeight', u'engineType',\n",
    "       u'numCylinders', u'engineSize', u'fuelSystem', u'bore', u'stroke',\n",
    "       u'compressionRatio', u'horsepower', u'peakRPM', u'cityMPG', u'highwayMPG', u'price'] # add columns names"
   ]
  },
  {
   "cell_type": "markdown",
   "metadata": {},
   "source": [
    "## Looking at the top 6 features by boost importance"
   ]
  },
  {
   "cell_type": "code",
   "execution_count": 6,
   "metadata": {
    "collapsed": false
   },
   "outputs": [
    {
     "data": {
      "text/html": [
       "<div>\n",
       "<table border=\"1\" class=\"dataframe\">\n",
       "  <thead>\n",
       "    <tr style=\"text-align: right;\">\n",
       "      <th></th>\n",
       "      <th>engineType</th>\n",
       "      <th>fuelType</th>\n",
       "      <th>driveWheels</th>\n",
       "      <th>curbWeight</th>\n",
       "      <th>numDoors</th>\n",
       "      <th>wheelBase</th>\n",
       "    </tr>\n",
       "  </thead>\n",
       "  <tbody>\n",
       "    <tr>\n",
       "      <th>0</th>\n",
       "      <td>dohc</td>\n",
       "      <td>gas</td>\n",
       "      <td>rwd</td>\n",
       "      <td>2548</td>\n",
       "      <td>two</td>\n",
       "      <td>88.6</td>\n",
       "    </tr>\n",
       "    <tr>\n",
       "      <th>1</th>\n",
       "      <td>ohcv</td>\n",
       "      <td>gas</td>\n",
       "      <td>rwd</td>\n",
       "      <td>2823</td>\n",
       "      <td>two</td>\n",
       "      <td>94.5</td>\n",
       "    </tr>\n",
       "    <tr>\n",
       "      <th>2</th>\n",
       "      <td>ohc</td>\n",
       "      <td>gas</td>\n",
       "      <td>fwd</td>\n",
       "      <td>2337</td>\n",
       "      <td>four</td>\n",
       "      <td>99.8</td>\n",
       "    </tr>\n",
       "    <tr>\n",
       "      <th>3</th>\n",
       "      <td>ohc</td>\n",
       "      <td>gas</td>\n",
       "      <td>4wd</td>\n",
       "      <td>2824</td>\n",
       "      <td>four</td>\n",
       "      <td>99.4</td>\n",
       "    </tr>\n",
       "    <tr>\n",
       "      <th>4</th>\n",
       "      <td>ohc</td>\n",
       "      <td>gas</td>\n",
       "      <td>fwd</td>\n",
       "      <td>2507</td>\n",
       "      <td>two</td>\n",
       "      <td>99.8</td>\n",
       "    </tr>\n",
       "  </tbody>\n",
       "</table>\n",
       "</div>"
      ],
      "text/plain": [
       "  engineType fuelType driveWheels  curbWeight numDoors  wheelBase\n",
       "0       dohc      gas         rwd        2548      two       88.6\n",
       "1       ohcv      gas         rwd        2823      two       94.5\n",
       "2        ohc      gas         fwd        2337     four       99.8\n",
       "3        ohc      gas         4wd        2824     four       99.4\n",
       "4        ohc      gas         fwd        2507      two       99.8"
      ]
     },
     "execution_count": 6,
     "metadata": {},
     "output_type": "execute_result"
    }
   ],
   "source": [
    "cars[['engineType', 'fuelType', 'driveWheels', 'curbWeight', 'numDoors', 'wheelBase']].head()"
   ]
  },
  {
   "cell_type": "markdown",
   "metadata": {},
   "source": [
    "## Visualizing"
   ]
  },
  {
   "cell_type": "markdown",
   "metadata": {},
   "source": [
    "### Bar/Histogram Charts of Mean"
   ]
  },
  {
   "cell_type": "markdown",
   "metadata": {},
   "source": [
    "I tried to use the `stat` param for geom_bar to use the value of risk rather than count. __*Didn't work*__\n",
    "Found this [article](http://blog.yhat.com/posts/aggregating-and-plotting-time-series-in-python.html) that showed me to use weight (instead of __*y*__)."
   ]
  },
  {
   "cell_type": "code",
   "execution_count": 90,
   "metadata": {
    "collapsed": false
   },
   "outputs": [
    {
     "data": {
      "image/png": "[encoded data removed]",
      "text/plain": [
       "<matplotlib.figure.Figure at 0x12ea6048>"
      ]
     },
     "metadata": {},
     "output_type": "display_data"
    },
    {
     "data": {
      "text/plain": [
       "<ggplot: (19837244)>"
      ]
     },
     "execution_count": 90,
     "metadata": {},
     "output_type": "execute_result"
    }
   ],
   "source": [
    "groupDoors = cars.groupby('numDoors').mean()\n",
    "groupDoors['numDoors'] = groupDoors.index\n",
    "groupDoors = pd.DataFrame(groupDoors.to_dict())\n",
    "ggplot(data=groupDoors, aesthetics=aes(x='numDoors', weight='risk')) + geom_bar(fill=\"blue\") #Use identity to get the value of the y not the count. NOt working."
   ]
  },
  {
   "cell_type": "code",
   "execution_count": 79,
   "metadata": {
    "collapsed": false
   },
   "outputs": [
    {
     "data": {
      "text/html": [
       "<div>\n",
       "<table border=\"1\" class=\"dataframe\">\n",
       "  <thead>\n",
       "    <tr style=\"text-align: right;\">\n",
       "      <th></th>\n",
       "      <th>cityMPG</th>\n",
       "      <th>compressionRatio</th>\n",
       "      <th>curbWeight</th>\n",
       "      <th>engineSize</th>\n",
       "      <th>height</th>\n",
       "      <th>highwayMPG</th>\n",
       "      <th>length</th>\n",
       "      <th>numDoors</th>\n",
       "      <th>risk</th>\n",
       "      <th>wheelBase</th>\n",
       "      <th>width</th>\n",
       "    </tr>\n",
       "  </thead>\n",
       "  <tbody>\n",
       "    <tr>\n",
       "      <th>?</th>\n",
       "      <td>30.000000</td>\n",
       "      <td>15.150000</td>\n",
       "      <td>2317.000000</td>\n",
       "      <td>110.000000</td>\n",
       "      <td>53.050000</td>\n",
       "      <td>36.000000</td>\n",
       "      <td>167.550000</td>\n",
       "      <td>?</td>\n",
       "      <td>0.500000</td>\n",
       "      <td>96.250000</td>\n",
       "      <td>65.150000</td>\n",
       "    </tr>\n",
       "    <tr>\n",
       "      <th>four</th>\n",
       "      <td>25.052632</td>\n",
       "      <td>10.661404</td>\n",
       "      <td>2648.043860</td>\n",
       "      <td>127.719298</td>\n",
       "      <td>54.910526</td>\n",
       "      <td>30.429825</td>\n",
       "      <td>178.393860</td>\n",
       "      <td>four</td>\n",
       "      <td>0.105263</td>\n",
       "      <td>101.154386</td>\n",
       "      <td>66.298246</td>\n",
       "    </tr>\n",
       "    <tr>\n",
       "      <th>two</th>\n",
       "      <td>25.375000</td>\n",
       "      <td>9.369545</td>\n",
       "      <td>2441.272727</td>\n",
       "      <td>126.204545</td>\n",
       "      <td>52.260227</td>\n",
       "      <td>31.090909</td>\n",
       "      <td>168.628409</td>\n",
       "      <td>two</td>\n",
       "      <td>1.761364</td>\n",
       "      <td>95.822727</td>\n",
       "      <td>65.439773</td>\n",
       "    </tr>\n",
       "  </tbody>\n",
       "</table>\n",
       "</div>"
      ],
      "text/plain": [
       "        cityMPG  compressionRatio   curbWeight  engineSize     height  \\\n",
       "?     30.000000         15.150000  2317.000000  110.000000  53.050000   \n",
       "four  25.052632         10.661404  2648.043860  127.719298  54.910526   \n",
       "two   25.375000          9.369545  2441.272727  126.204545  52.260227   \n",
       "\n",
       "      highwayMPG      length numDoors      risk   wheelBase      width  \n",
       "?      36.000000  167.550000        ?  0.500000   96.250000  65.150000  \n",
       "four   30.429825  178.393860     four  0.105263  101.154386  66.298246  \n",
       "two    31.090909  168.628409      two  1.761364   95.822727  65.439773  "
      ]
     },
     "execution_count": 79,
     "metadata": {},
     "output_type": "execute_result"
    }
   ],
   "source": [
    "groupDoors.head()"
   ]
  },
  {
   "cell_type": "code",
   "execution_count": 91,
   "metadata": {
    "collapsed": false
   },
   "outputs": [
    {
     "data": {
      "image/png": "[encoded data removed]",
      "text/plain": [
       "<matplotlib.figure.Figure at 0x1259c978>"
      ]
     },
     "metadata": {},
     "output_type": "display_data"
    },
    {
     "data": {
      "text/plain": [
       "<ggplot: (19242142)>"
      ]
     },
     "execution_count": 91,
     "metadata": {},
     "output_type": "execute_result"
    }
   ],
   "source": [
    "ggplot(cars, aes(x='numDoors')) + geom_bar(fill='red')"
   ]
  },
  {
   "cell_type": "code",
   "execution_count": 92,
   "metadata": {
    "collapsed": false
   },
   "outputs": [
    {
     "data": {
      "image/png": "[encoded data removed]",
      "text/plain": [
       "<matplotlib.figure.Figure at 0x12dfed68>"
      ]
     },
     "metadata": {},
     "output_type": "display_data"
    },
    {
     "data": {
      "text/plain": [
       "<ggplot: (20068963)>"
      ]
     },
     "execution_count": 92,
     "metadata": {},
     "output_type": "execute_result"
    }
   ],
   "source": [
    "ggplot(cars, aes(x='wheelBase')) + geom_histogram(fill='green')"
   ]
  },
  {
   "cell_type": "markdown",
   "metadata": {},
   "source": [
    "## Summarizing"
   ]
  },
  {
   "cell_type": "markdown",
   "metadata": {},
   "source": [
    "#### Grouping\n",
    "You can apply aggregates and they automatically calculate for numeric columns"
   ]
  },
  {
   "cell_type": "code",
   "execution_count": 49,
   "metadata": {
    "collapsed": false
   },
   "outputs": [
    {
     "data": {
      "text/html": [
       "<div>\n",
       "<table border=\"1\" class=\"dataframe\">\n",
       "  <thead>\n",
       "    <tr style=\"text-align: right;\">\n",
       "      <th></th>\n",
       "      <th>risk</th>\n",
       "    </tr>\n",
       "    <tr>\n",
       "      <th>numDoors</th>\n",
       "      <th></th>\n",
       "    </tr>\n",
       "  </thead>\n",
       "  <tbody>\n",
       "    <tr>\n",
       "      <th>?</th>\n",
       "      <td>2</td>\n",
       "    </tr>\n",
       "    <tr>\n",
       "      <th>four</th>\n",
       "      <td>114</td>\n",
       "    </tr>\n",
       "    <tr>\n",
       "      <th>two</th>\n",
       "      <td>88</td>\n",
       "    </tr>\n",
       "  </tbody>\n",
       "</table>\n",
       "</div>"
      ],
      "text/plain": [
       "          risk\n",
       "numDoors      \n",
       "?            2\n",
       "four       114\n",
       "two         88"
      ]
     },
     "execution_count": 49,
     "metadata": {},
     "output_type": "execute_result"
    }
   ],
   "source": [
    "## Get frequency by number of does\n",
    "cars[['numDoors', 'risk']].groupby('numDoors').count()"
   ]
  },
  {
   "cell_type": "code",
   "execution_count": 45,
   "metadata": {
    "collapsed": false
   },
   "outputs": [
    {
     "data": {
      "text/html": [
       "<div>\n",
       "<table border=\"1\" class=\"dataframe\">\n",
       "  <thead>\n",
       "    <tr style=\"text-align: right;\">\n",
       "      <th></th>\n",
       "      <th>risk</th>\n",
       "      <th>wheelBase</th>\n",
       "      <th>length</th>\n",
       "      <th>width</th>\n",
       "      <th>height</th>\n",
       "      <th>curbWeight</th>\n",
       "      <th>engineSize</th>\n",
       "      <th>compressionRatio</th>\n",
       "      <th>cityMPG</th>\n",
       "      <th>highwayMPG</th>\n",
       "    </tr>\n",
       "    <tr>\n",
       "      <th>numDoors</th>\n",
       "      <th></th>\n",
       "      <th></th>\n",
       "      <th></th>\n",
       "      <th></th>\n",
       "      <th></th>\n",
       "      <th></th>\n",
       "      <th></th>\n",
       "      <th></th>\n",
       "      <th></th>\n",
       "      <th></th>\n",
       "    </tr>\n",
       "  </thead>\n",
       "  <tbody>\n",
       "    <tr>\n",
       "      <th>?</th>\n",
       "      <td>0.500000</td>\n",
       "      <td>96.250000</td>\n",
       "      <td>167.550000</td>\n",
       "      <td>65.150000</td>\n",
       "      <td>53.050000</td>\n",
       "      <td>2317.000000</td>\n",
       "      <td>110.000000</td>\n",
       "      <td>15.150000</td>\n",
       "      <td>30.000000</td>\n",
       "      <td>36.000000</td>\n",
       "    </tr>\n",
       "    <tr>\n",
       "      <th>four</th>\n",
       "      <td>0.105263</td>\n",
       "      <td>101.154386</td>\n",
       "      <td>178.393860</td>\n",
       "      <td>66.298246</td>\n",
       "      <td>54.910526</td>\n",
       "      <td>2648.043860</td>\n",
       "      <td>127.719298</td>\n",
       "      <td>10.661404</td>\n",
       "      <td>25.052632</td>\n",
       "      <td>30.429825</td>\n",
       "    </tr>\n",
       "    <tr>\n",
       "      <th>two</th>\n",
       "      <td>1.761364</td>\n",
       "      <td>95.822727</td>\n",
       "      <td>168.628409</td>\n",
       "      <td>65.439773</td>\n",
       "      <td>52.260227</td>\n",
       "      <td>2441.272727</td>\n",
       "      <td>126.204545</td>\n",
       "      <td>9.369545</td>\n",
       "      <td>25.375000</td>\n",
       "      <td>31.090909</td>\n",
       "    </tr>\n",
       "  </tbody>\n",
       "</table>\n",
       "</div>"
      ],
      "text/plain": [
       "              risk   wheelBase      length      width     height   curbWeight  \\\n",
       "numDoors                                                                        \n",
       "?         0.500000   96.250000  167.550000  65.150000  53.050000  2317.000000   \n",
       "four      0.105263  101.154386  178.393860  66.298246  54.910526  2648.043860   \n",
       "two       1.761364   95.822727  168.628409  65.439773  52.260227  2441.272727   \n",
       "\n",
       "          engineSize  compressionRatio    cityMPG  highwayMPG  \n",
       "numDoors                                                       \n",
       "?         110.000000         15.150000  30.000000   36.000000  \n",
       "four      127.719298         10.661404  25.052632   30.429825  \n",
       "two       126.204545          9.369545  25.375000   31.090909  "
      ]
     },
     "execution_count": 45,
     "metadata": {},
     "output_type": "execute_result"
    }
   ],
   "source": [
    "## Get mean by number of doors\n",
    "cars.groupby('numDoors').mean()"
   ]
  },
  {
   "cell_type": "code",
   "execution_count": 61,
   "metadata": {
    "collapsed": false
   },
   "outputs": [
    {
     "data": {
      "text/plain": [
       "Index([u'?', u'four', u'two'], dtype='object', name=u'numDoors')"
      ]
     },
     "execution_count": 61,
     "metadata": {},
     "output_type": "execute_result"
    }
   ],
   "source": [
    "cars.groupby('numDoors').mean().index"
   ]
  },
  {
   "cell_type": "code",
   "execution_count": 50,
   "metadata": {
    "collapsed": false
   },
   "outputs": [
    {
     "data": {
      "text/html": [
       "<div>\n",
       "<table border=\"1\" class=\"dataframe\">\n",
       "  <thead>\n",
       "    <tr style=\"text-align: right;\">\n",
       "      <th></th>\n",
       "      <th></th>\n",
       "      <th>cityMPG</th>\n",
       "      <th>compressionRatio</th>\n",
       "      <th>curbWeight</th>\n",
       "      <th>engineSize</th>\n",
       "      <th>height</th>\n",
       "      <th>highwayMPG</th>\n",
       "      <th>length</th>\n",
       "      <th>risk</th>\n",
       "      <th>wheelBase</th>\n",
       "      <th>width</th>\n",
       "    </tr>\n",
       "    <tr>\n",
       "      <th>numDoors</th>\n",
       "      <th></th>\n",
       "      <th></th>\n",
       "      <th></th>\n",
       "      <th></th>\n",
       "      <th></th>\n",
       "      <th></th>\n",
       "      <th></th>\n",
       "      <th></th>\n",
       "      <th></th>\n",
       "      <th></th>\n",
       "      <th></th>\n",
       "    </tr>\n",
       "  </thead>\n",
       "  <tbody>\n",
       "    <tr>\n",
       "      <th rowspan=\"8\" valign=\"top\">?</th>\n",
       "      <th>count</th>\n",
       "      <td>2.000000</td>\n",
       "      <td>2.000000</td>\n",
       "      <td>2.000000</td>\n",
       "      <td>2.000000</td>\n",
       "      <td>2.000000</td>\n",
       "      <td>2.000000</td>\n",
       "      <td>2.000000</td>\n",
       "      <td>2.000000</td>\n",
       "      <td>2.000000</td>\n",
       "      <td>2.000000</td>\n",
       "    </tr>\n",
       "    <tr>\n",
       "      <th>mean</th>\n",
       "      <td>30.000000</td>\n",
       "      <td>15.150000</td>\n",
       "      <td>2317.000000</td>\n",
       "      <td>110.000000</td>\n",
       "      <td>53.050000</td>\n",
       "      <td>36.000000</td>\n",
       "      <td>167.550000</td>\n",
       "      <td>0.500000</td>\n",
       "      <td>96.250000</td>\n",
       "      <td>65.150000</td>\n",
       "    </tr>\n",
       "    <tr>\n",
       "      <th>std</th>\n",
       "      <td>8.485281</td>\n",
       "      <td>10.677312</td>\n",
       "      <td>178.190909</td>\n",
       "      <td>16.970563</td>\n",
       "      <td>3.464823</td>\n",
       "      <td>8.485281</td>\n",
       "      <td>14.495689</td>\n",
       "      <td>0.707107</td>\n",
       "      <td>3.606245</td>\n",
       "      <td>1.909188</td>\n",
       "    </tr>\n",
       "    <tr>\n",
       "      <th>min</th>\n",
       "      <td>24.000000</td>\n",
       "      <td>7.600000</td>\n",
       "      <td>2191.000000</td>\n",
       "      <td>98.000000</td>\n",
       "      <td>50.600000</td>\n",
       "      <td>30.000000</td>\n",
       "      <td>157.300000</td>\n",
       "      <td>0.000000</td>\n",
       "      <td>93.700000</td>\n",
       "      <td>63.800000</td>\n",
       "    </tr>\n",
       "    <tr>\n",
       "      <th>25%</th>\n",
       "      <td>27.000000</td>\n",
       "      <td>11.375000</td>\n",
       "      <td>2254.000000</td>\n",
       "      <td>104.000000</td>\n",
       "      <td>51.825000</td>\n",
       "      <td>33.000000</td>\n",
       "      <td>162.425000</td>\n",
       "      <td>0.250000</td>\n",
       "      <td>94.975000</td>\n",
       "      <td>64.475000</td>\n",
       "    </tr>\n",
       "    <tr>\n",
       "      <th>50%</th>\n",
       "      <td>30.000000</td>\n",
       "      <td>15.150000</td>\n",
       "      <td>2317.000000</td>\n",
       "      <td>110.000000</td>\n",
       "      <td>53.050000</td>\n",
       "      <td>36.000000</td>\n",
       "      <td>167.550000</td>\n",
       "      <td>0.500000</td>\n",
       "      <td>96.250000</td>\n",
       "      <td>65.150000</td>\n",
       "    </tr>\n",
       "    <tr>\n",
       "      <th>75%</th>\n",
       "      <td>33.000000</td>\n",
       "      <td>18.925000</td>\n",
       "      <td>2380.000000</td>\n",
       "      <td>116.000000</td>\n",
       "      <td>54.275000</td>\n",
       "      <td>39.000000</td>\n",
       "      <td>172.675000</td>\n",
       "      <td>0.750000</td>\n",
       "      <td>97.525000</td>\n",
       "      <td>65.825000</td>\n",
       "    </tr>\n",
       "    <tr>\n",
       "      <th>max</th>\n",
       "      <td>36.000000</td>\n",
       "      <td>22.700000</td>\n",
       "      <td>2443.000000</td>\n",
       "      <td>122.000000</td>\n",
       "      <td>55.500000</td>\n",
       "      <td>42.000000</td>\n",
       "      <td>177.800000</td>\n",
       "      <td>1.000000</td>\n",
       "      <td>98.800000</td>\n",
       "      <td>66.500000</td>\n",
       "    </tr>\n",
       "    <tr>\n",
       "      <th rowspan=\"8\" valign=\"top\">four</th>\n",
       "      <th>count</th>\n",
       "      <td>114.000000</td>\n",
       "      <td>114.000000</td>\n",
       "      <td>114.000000</td>\n",
       "      <td>114.000000</td>\n",
       "      <td>114.000000</td>\n",
       "      <td>114.000000</td>\n",
       "      <td>114.000000</td>\n",
       "      <td>114.000000</td>\n",
       "      <td>114.000000</td>\n",
       "      <td>114.000000</td>\n",
       "    </tr>\n",
       "    <tr>\n",
       "      <th>mean</th>\n",
       "      <td>25.052632</td>\n",
       "      <td>10.661404</td>\n",
       "      <td>2648.043860</td>\n",
       "      <td>127.719298</td>\n",
       "      <td>54.910526</td>\n",
       "      <td>30.429825</td>\n",
       "      <td>178.393860</td>\n",
       "      <td>0.105263</td>\n",
       "      <td>101.154386</td>\n",
       "      <td>66.298246</td>\n",
       "    </tr>\n",
       "    <tr>\n",
       "      <th>std</th>\n",
       "      <td>5.703348</td>\n",
       "      <td>4.618039</td>\n",
       "      <td>525.366545</td>\n",
       "      <td>37.967035</td>\n",
       "      <td>2.088628</td>\n",
       "      <td>6.427223</td>\n",
       "      <td>11.596843</td>\n",
       "      <td>0.905914</td>\n",
       "      <td>6.288044</td>\n",
       "      <td>2.194522</td>\n",
       "    </tr>\n",
       "    <tr>\n",
       "      <th>min</th>\n",
       "      <td>14.000000</td>\n",
       "      <td>7.000000</td>\n",
       "      <td>1909.000000</td>\n",
       "      <td>90.000000</td>\n",
       "      <td>50.600000</td>\n",
       "      <td>16.000000</td>\n",
       "      <td>155.900000</td>\n",
       "      <td>-2.000000</td>\n",
       "      <td>93.100000</td>\n",
       "      <td>61.800000</td>\n",
       "    </tr>\n",
       "    <tr>\n",
       "      <th>25%</th>\n",
       "      <td>20.000000</td>\n",
       "      <td>8.500000</td>\n",
       "      <td>2276.250000</td>\n",
       "      <td>108.000000</td>\n",
       "      <td>53.600000</td>\n",
       "      <td>25.000000</td>\n",
       "      <td>171.700000</td>\n",
       "      <td>0.000000</td>\n",
       "      <td>96.300000</td>\n",
       "      <td>64.450000</td>\n",
       "    </tr>\n",
       "    <tr>\n",
       "      <th>50%</th>\n",
       "      <td>25.000000</td>\n",
       "      <td>9.000000</td>\n",
       "      <td>2472.500000</td>\n",
       "      <td>120.000000</td>\n",
       "      <td>55.000000</td>\n",
       "      <td>31.000000</td>\n",
       "      <td>175.600000</td>\n",
       "      <td>0.000000</td>\n",
       "      <td>99.100000</td>\n",
       "      <td>66.150000</td>\n",
       "    </tr>\n",
       "    <tr>\n",
       "      <th>75%</th>\n",
       "      <td>29.750000</td>\n",
       "      <td>9.400000</td>\n",
       "      <td>3058.750000</td>\n",
       "      <td>141.000000</td>\n",
       "      <td>56.100000</td>\n",
       "      <td>34.000000</td>\n",
       "      <td>187.800000</td>\n",
       "      <td>1.000000</td>\n",
       "      <td>104.800000</td>\n",
       "      <td>67.200000</td>\n",
       "    </tr>\n",
       "    <tr>\n",
       "      <th>max</th>\n",
       "      <td>38.000000</td>\n",
       "      <td>23.000000</td>\n",
       "      <td>4066.000000</td>\n",
       "      <td>308.000000</td>\n",
       "      <td>59.800000</td>\n",
       "      <td>47.000000</td>\n",
       "      <td>208.100000</td>\n",
       "      <td>2.000000</td>\n",
       "      <td>120.900000</td>\n",
       "      <td>71.700000</td>\n",
       "    </tr>\n",
       "    <tr>\n",
       "      <th rowspan=\"8\" valign=\"top\">two</th>\n",
       "      <th>count</th>\n",
       "      <td>88.000000</td>\n",
       "      <td>88.000000</td>\n",
       "      <td>88.000000</td>\n",
       "      <td>88.000000</td>\n",
       "      <td>88.000000</td>\n",
       "      <td>88.000000</td>\n",
       "      <td>88.000000</td>\n",
       "      <td>88.000000</td>\n",
       "      <td>88.000000</td>\n",
       "      <td>88.000000</td>\n",
       "    </tr>\n",
       "    <tr>\n",
       "      <th>mean</th>\n",
       "      <td>25.375000</td>\n",
       "      <td>9.369545</td>\n",
       "      <td>2441.272727</td>\n",
       "      <td>126.204545</td>\n",
       "      <td>52.260227</td>\n",
       "      <td>31.090909</td>\n",
       "      <td>168.628409</td>\n",
       "      <td>1.761364</td>\n",
       "      <td>95.822727</td>\n",
       "      <td>65.439773</td>\n",
       "    </tr>\n",
       "    <tr>\n",
       "      <th>std</th>\n",
       "      <td>7.515979</td>\n",
       "      <td>2.536915</td>\n",
       "      <td>501.110875</td>\n",
       "      <td>46.717827</td>\n",
       "      <td>1.973651</td>\n",
       "      <td>7.461220</td>\n",
       "      <td>11.138449</td>\n",
       "      <td>0.970772</td>\n",
       "      <td>3.993982</td>\n",
       "      <td>2.005369</td>\n",
       "    </tr>\n",
       "    <tr>\n",
       "      <th>min</th>\n",
       "      <td>13.000000</td>\n",
       "      <td>7.000000</td>\n",
       "      <td>1488.000000</td>\n",
       "      <td>61.000000</td>\n",
       "      <td>47.800000</td>\n",
       "      <td>16.000000</td>\n",
       "      <td>141.100000</td>\n",
       "      <td>0.000000</td>\n",
       "      <td>86.600000</td>\n",
       "      <td>60.300000</td>\n",
       "    </tr>\n",
       "    <tr>\n",
       "      <th>25%</th>\n",
       "      <td>19.000000</td>\n",
       "      <td>8.700000</td>\n",
       "      <td>2014.750000</td>\n",
       "      <td>92.000000</td>\n",
       "      <td>50.800000</td>\n",
       "      <td>25.000000</td>\n",
       "      <td>159.000000</td>\n",
       "      <td>1.000000</td>\n",
       "      <td>93.700000</td>\n",
       "      <td>63.975000</td>\n",
       "    </tr>\n",
       "    <tr>\n",
       "      <th>50%</th>\n",
       "      <td>24.000000</td>\n",
       "      <td>9.200000</td>\n",
       "      <td>2375.000000</td>\n",
       "      <td>109.500000</td>\n",
       "      <td>52.000000</td>\n",
       "      <td>30.000000</td>\n",
       "      <td>168.950000</td>\n",
       "      <td>2.000000</td>\n",
       "      <td>95.300000</td>\n",
       "      <td>65.200000</td>\n",
       "    </tr>\n",
       "    <tr>\n",
       "      <th>75%</th>\n",
       "      <td>31.000000</td>\n",
       "      <td>9.400000</td>\n",
       "      <td>2783.500000</td>\n",
       "      <td>147.250000</td>\n",
       "      <td>53.700000</td>\n",
       "      <td>37.000000</td>\n",
       "      <td>176.200000</td>\n",
       "      <td>3.000000</td>\n",
       "      <td>98.400000</td>\n",
       "      <td>66.300000</td>\n",
       "    </tr>\n",
       "    <tr>\n",
       "      <th>max</th>\n",
       "      <td>49.000000</td>\n",
       "      <td>23.000000</td>\n",
       "      <td>3950.000000</td>\n",
       "      <td>326.000000</td>\n",
       "      <td>56.100000</td>\n",
       "      <td>54.000000</td>\n",
       "      <td>199.200000</td>\n",
       "      <td>3.000000</td>\n",
       "      <td>112.000000</td>\n",
       "      <td>72.300000</td>\n",
       "    </tr>\n",
       "  </tbody>\n",
       "</table>\n",
       "</div>"
      ],
      "text/plain": [
       "                   cityMPG  compressionRatio   curbWeight  engineSize  \\\n",
       "numDoors                                                                \n",
       "?        count    2.000000          2.000000     2.000000    2.000000   \n",
       "         mean    30.000000         15.150000  2317.000000  110.000000   \n",
       "         std      8.485281         10.677312   178.190909   16.970563   \n",
       "         min     24.000000          7.600000  2191.000000   98.000000   \n",
       "         25%     27.000000         11.375000  2254.000000  104.000000   \n",
       "         50%     30.000000         15.150000  2317.000000  110.000000   \n",
       "         75%     33.000000         18.925000  2380.000000  116.000000   \n",
       "         max     36.000000         22.700000  2443.000000  122.000000   \n",
       "four     count  114.000000        114.000000   114.000000  114.000000   \n",
       "         mean    25.052632         10.661404  2648.043860  127.719298   \n",
       "         std      5.703348          4.618039   525.366545   37.967035   \n",
       "         min     14.000000          7.000000  1909.000000   90.000000   \n",
       "         25%     20.000000          8.500000  2276.250000  108.000000   \n",
       "         50%     25.000000          9.000000  2472.500000  120.000000   \n",
       "         75%     29.750000          9.400000  3058.750000  141.000000   \n",
       "         max     38.000000         23.000000  4066.000000  308.000000   \n",
       "two      count   88.000000         88.000000    88.000000   88.000000   \n",
       "         mean    25.375000          9.369545  2441.272727  126.204545   \n",
       "         std      7.515979          2.536915   501.110875   46.717827   \n",
       "         min     13.000000          7.000000  1488.000000   61.000000   \n",
       "         25%     19.000000          8.700000  2014.750000   92.000000   \n",
       "         50%     24.000000          9.200000  2375.000000  109.500000   \n",
       "         75%     31.000000          9.400000  2783.500000  147.250000   \n",
       "         max     49.000000         23.000000  3950.000000  326.000000   \n",
       "\n",
       "                    height  highwayMPG      length        risk   wheelBase  \\\n",
       "numDoors                                                                     \n",
       "?        count    2.000000    2.000000    2.000000    2.000000    2.000000   \n",
       "         mean    53.050000   36.000000  167.550000    0.500000   96.250000   \n",
       "         std      3.464823    8.485281   14.495689    0.707107    3.606245   \n",
       "         min     50.600000   30.000000  157.300000    0.000000   93.700000   \n",
       "         25%     51.825000   33.000000  162.425000    0.250000   94.975000   \n",
       "         50%     53.050000   36.000000  167.550000    0.500000   96.250000   \n",
       "         75%     54.275000   39.000000  172.675000    0.750000   97.525000   \n",
       "         max     55.500000   42.000000  177.800000    1.000000   98.800000   \n",
       "four     count  114.000000  114.000000  114.000000  114.000000  114.000000   \n",
       "         mean    54.910526   30.429825  178.393860    0.105263  101.154386   \n",
       "         std      2.088628    6.427223   11.596843    0.905914    6.288044   \n",
       "         min     50.600000   16.000000  155.900000   -2.000000   93.100000   \n",
       "         25%     53.600000   25.000000  171.700000    0.000000   96.300000   \n",
       "         50%     55.000000   31.000000  175.600000    0.000000   99.100000   \n",
       "         75%     56.100000   34.000000  187.800000    1.000000  104.800000   \n",
       "         max     59.800000   47.000000  208.100000    2.000000  120.900000   \n",
       "two      count   88.000000   88.000000   88.000000   88.000000   88.000000   \n",
       "         mean    52.260227   31.090909  168.628409    1.761364   95.822727   \n",
       "         std      1.973651    7.461220   11.138449    0.970772    3.993982   \n",
       "         min     47.800000   16.000000  141.100000    0.000000   86.600000   \n",
       "         25%     50.800000   25.000000  159.000000    1.000000   93.700000   \n",
       "         50%     52.000000   30.000000  168.950000    2.000000   95.300000   \n",
       "         75%     53.700000   37.000000  176.200000    3.000000   98.400000   \n",
       "         max     56.100000   54.000000  199.200000    3.000000  112.000000   \n",
       "\n",
       "                     width  \n",
       "numDoors                    \n",
       "?        count    2.000000  \n",
       "         mean    65.150000  \n",
       "         std      1.909188  \n",
       "         min     63.800000  \n",
       "         25%     64.475000  \n",
       "         50%     65.150000  \n",
       "         75%     65.825000  \n",
       "         max     66.500000  \n",
       "four     count  114.000000  \n",
       "         mean    66.298246  \n",
       "         std      2.194522  \n",
       "         min     61.800000  \n",
       "         25%     64.450000  \n",
       "         50%     66.150000  \n",
       "         75%     67.200000  \n",
       "         max     71.700000  \n",
       "two      count   88.000000  \n",
       "         mean    65.439773  \n",
       "         std      2.005369  \n",
       "         min     60.300000  \n",
       "         25%     63.975000  \n",
       "         50%     65.200000  \n",
       "         75%     66.300000  \n",
       "         max     72.300000  "
      ]
     },
     "execution_count": 50,
     "metadata": {},
     "output_type": "execute_result"
    }
   ],
   "source": [
    "## Get statistical summary per \n",
    "cars.groupby('numDoors').describe()"
   ]
  },
  {
   "cell_type": "markdown",
   "metadata": {},
   "source": [
    "## Correlations"
   ]
  },
  {
   "cell_type": "code",
   "execution_count": 52,
   "metadata": {
    "collapsed": false
   },
   "outputs": [
    {
     "data": {
      "text/html": [
       "<div>\n",
       "<table border=\"1\" class=\"dataframe\">\n",
       "  <thead>\n",
       "    <tr style=\"text-align: right;\">\n",
       "      <th></th>\n",
       "      <th>risk</th>\n",
       "      <th>curbWeight</th>\n",
       "      <th>wheelBase</th>\n",
       "    </tr>\n",
       "  </thead>\n",
       "  <tbody>\n",
       "    <tr>\n",
       "      <th>risk</th>\n",
       "      <td>1.000000</td>\n",
       "      <td>-0.229281</td>\n",
       "      <td>-0.525095</td>\n",
       "    </tr>\n",
       "    <tr>\n",
       "      <th>curbWeight</th>\n",
       "      <td>-0.229281</td>\n",
       "      <td>1.000000</td>\n",
       "      <td>0.781763</td>\n",
       "    </tr>\n",
       "    <tr>\n",
       "      <th>wheelBase</th>\n",
       "      <td>-0.525095</td>\n",
       "      <td>0.781763</td>\n",
       "      <td>1.000000</td>\n",
       "    </tr>\n",
       "  </tbody>\n",
       "</table>\n",
       "</div>"
      ],
      "text/plain": [
       "                risk  curbWeight  wheelBase\n",
       "risk        1.000000   -0.229281  -0.525095\n",
       "curbWeight -0.229281    1.000000   0.781763\n",
       "wheelBase  -0.525095    0.781763   1.000000"
      ]
     },
     "execution_count": 52,
     "metadata": {},
     "output_type": "execute_result"
    }
   ],
   "source": [
    "cars[['risk', 'engineType', 'fuelType', 'driveWheels', 'curbWeight', 'numDoors', 'wheelBase']].corr()"
   ]
  }
 ],
 "metadata": {
  "kernelspec": {
   "display_name": "Python [Root]",
   "language": "python",
   "name": "Python [Root]"
  },
  "language_info": {
   "codemirror_mode": {
    "name": "ipython",
    "version": 2
   },
   "file_extension": ".py",
   "mimetype": "text/x-python",
   "name": "python",
   "nbconvert_exporter": "python",
   "pygments_lexer": "ipython2",
   "version": "2.7.12"
  }
 },
 "nbformat": 4,
 "nbformat_minor": 0
}
